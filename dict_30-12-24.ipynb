{
 "cells": [
  {
   "cell_type": "code",
   "execution_count": 1,
   "id": "fd1631a0-80b5-41f1-96f5-6297e00d29fa",
   "metadata": {},
   "outputs": [],
   "source": [
    "d={}"
   ]
  },
  {
   "cell_type": "code",
   "execution_count": 2,
   "id": "232d1d5c-c96b-4558-87d7-9a24a4235ee4",
   "metadata": {},
   "outputs": [
    {
     "data": {
      "text/plain": [
       "dict"
      ]
     },
     "execution_count": 2,
     "metadata": {},
     "output_type": "execute_result"
    }
   ],
   "source": [
    "type(d)"
   ]
  },
  {
   "cell_type": "code",
   "execution_count": 3,
   "id": "74b4cc29-7670-4d75-ac0c-d0e922505faa",
   "metadata": {},
   "outputs": [
    {
     "data": {
      "text/plain": [
       "{}"
      ]
     },
     "execution_count": 3,
     "metadata": {},
     "output_type": "execute_result"
    }
   ],
   "source": [
    "d"
   ]
  },
  {
   "cell_type": "code",
   "execution_count": 4,
   "id": "57c27548-7ccf-4409-be97-fd862cdf054a",
   "metadata": {},
   "outputs": [],
   "source": [
    "d1={'key':\"deep\"}"
   ]
  },
  {
   "cell_type": "code",
   "execution_count": 5,
   "id": "28bd4cca-178f-40df-aaaa-b0355ef738fc",
   "metadata": {},
   "outputs": [
    {
     "data": {
      "text/plain": [
       "{'key': 'deep'}"
      ]
     },
     "execution_count": 5,
     "metadata": {},
     "output_type": "execute_result"
    }
   ],
   "source": [
    "d1"
   ]
  },
  {
   "cell_type": "code",
   "execution_count": 6,
   "id": "8b1b836e-fe4a-470c-aff4-0770bd628816",
   "metadata": {},
   "outputs": [],
   "source": [
    "d2={'mane':\"Deepak\",'email':\"dd@gmail.com\",'numbeR':\"678898999\"}"
   ]
  },
  {
   "cell_type": "code",
   "execution_count": 7,
   "id": "a5837c68-06fb-43b8-9589-c8cd6985b5f4",
   "metadata": {},
   "outputs": [
    {
     "data": {
      "text/plain": [
       "{'mane': 'Deepak', 'email': 'dd@gmail.com', 'numbeR': '678898999'}"
      ]
     },
     "execution_count": 7,
     "metadata": {},
     "output_type": "execute_result"
    }
   ],
   "source": [
    "d2"
   ]
  },
  {
   "cell_type": "code",
   "execution_count": 10,
   "id": "e1c75b42-3af7-4e38-97a5-bff53bc969bc",
   "metadata": {},
   "outputs": [],
   "source": [
    "d3={235:\"DEEP\",'_wer':\"kumar\",True:7678}"
   ]
  },
  {
   "cell_type": "code",
   "execution_count": 11,
   "id": "04ec4e3f-7008-4f3e-9a9b-9dcf9c4e7981",
   "metadata": {},
   "outputs": [
    {
     "data": {
      "text/plain": [
       "{235: 'DEEP', '_wer': 'kumar', True: 7678}"
      ]
     },
     "execution_count": 11,
     "metadata": {},
     "output_type": "execute_result"
    }
   ],
   "source": [
    "d3"
   ]
  },
  {
   "cell_type": "code",
   "execution_count": 12,
   "id": "cfdc5df0-7650-4be1-b0e5-2d2f4669bb01",
   "metadata": {},
   "outputs": [
    {
     "data": {
      "text/plain": [
       "'DEEP'"
      ]
     },
     "execution_count": 12,
     "metadata": {},
     "output_type": "execute_result"
    }
   ],
   "source": [
    "d3[235]"
   ]
  },
  {
   "cell_type": "code",
   "execution_count": 14,
   "id": "fe37c4bd-9811-482b-856c-a24bcd1ec386",
   "metadata": {},
   "outputs": [
    {
     "data": {
      "text/plain": [
       "7678"
      ]
     },
     "execution_count": 14,
     "metadata": {},
     "output_type": "execute_result"
    }
   ],
   "source": [
    "d3[True]"
   ]
  },
  {
   "cell_type": "code",
   "execution_count": 15,
   "id": "1444eab0-25b7-4b12-874e-37ae99ab9bf7",
   "metadata": {},
   "outputs": [
    {
     "data": {
      "text/plain": [
       "7678"
      ]
     },
     "execution_count": 15,
     "metadata": {},
     "output_type": "execute_result"
    }
   ],
   "source": [
    "d3[1]"
   ]
  },
  {
   "cell_type": "code",
   "execution_count": 18,
   "id": "81ed19c3-4beb-4f25-aaae-9ed0a57360d0",
   "metadata": {},
   "outputs": [],
   "source": [
    "d4={'name':\"deepak\",'mail':\"dk@gmail.com\",'phone':\"4667788999\",\"name\":\"sultan\"}"
   ]
  },
  {
   "cell_type": "code",
   "execution_count": 19,
   "id": "3187d666-58b6-4239-b18d-a6d37c3b1d62",
   "metadata": {},
   "outputs": [
    {
     "data": {
      "text/plain": [
       "{'name': 'sultan', 'mail': 'dk@gmail.com', 'phone': '4667788999'}"
      ]
     },
     "execution_count": 19,
     "metadata": {},
     "output_type": "execute_result"
    }
   ],
   "source": [
    "d4"
   ]
  },
  {
   "cell_type": "code",
   "execution_count": 20,
   "id": "af6ebf07-560a-46ec-9006-17cf3e286cad",
   "metadata": {},
   "outputs": [
    {
     "data": {
      "text/plain": [
       "'sultan'"
      ]
     },
     "execution_count": 20,
     "metadata": {},
     "output_type": "execute_result"
    }
   ],
   "source": [
    "d4['name']"
   ]
  },
  {
   "cell_type": "code",
   "execution_count": 21,
   "id": "142a2e53-edd7-4d09-845e-305a3fa56217",
   "metadata": {},
   "outputs": [],
   "source": [
    "d5={\"compamy\":\"pwskills\",\"course\":[\"web_dep\",\"java with system design\"]}"
   ]
  },
  {
   "cell_type": "code",
   "execution_count": 22,
   "id": "4b6ddd2b-2fab-4b19-adb8-02f2a5a0c68c",
   "metadata": {},
   "outputs": [
    {
     "data": {
      "text/plain": [
       "{'compamy': 'pwskills', 'course': ['web_dep', 'java with system design']}"
      ]
     },
     "execution_count": 22,
     "metadata": {},
     "output_type": "execute_result"
    }
   ],
   "source": [
    "d5"
   ]
  },
  {
   "cell_type": "code",
   "execution_count": 23,
   "id": "2d1dfa90-f293-4259-a997-877289628245",
   "metadata": {},
   "outputs": [
    {
     "data": {
      "text/plain": [
       "['web_dep', 'java with system design']"
      ]
     },
     "execution_count": 23,
     "metadata": {},
     "output_type": "execute_result"
    }
   ],
   "source": [
    "d5[\"course\"]"
   ]
  },
  {
   "cell_type": "code",
   "execution_count": 27,
   "id": "0ed282cb-0ebe-43f1-bb78-9059abeda3e1",
   "metadata": {},
   "outputs": [
    {
     "data": {
      "text/plain": [
       "'java with system design'"
      ]
     },
     "execution_count": 27,
     "metadata": {},
     "output_type": "execute_result"
    }
   ],
   "source": [
    "d5['course'][1]"
   ]
  },
  {
   "cell_type": "code",
   "execution_count": 36,
   "id": "c1adaed5-a6a0-4f41-8111-0d1cd11e9998",
   "metadata": {},
   "outputs": [],
   "source": [
    "d6={\"number\":[2,4,6,7,8],\"assignmennt\":(2,3,4,5,6,7),\"launch_date\":{28,22,14},\"class_time\":{\"web_deb\":8,\"data science master\":10,\"dsa\":1}}"
   ]
  },
  {
   "cell_type": "code",
   "execution_count": 37,
   "id": "9d037b1b-73ba-4d76-a260-6cca703b786f",
   "metadata": {},
   "outputs": [
    {
     "data": {
      "text/plain": [
       "{'number': [2, 4, 6, 7, 8],\n",
       " 'assignmennt': (2, 3, 4, 5, 6, 7),\n",
       " 'launch_date': {14, 22, 28},\n",
       " 'class_time': {'web_deb': 8, 'data science master': 10, 'dsa': 1}}"
      ]
     },
     "execution_count": 37,
     "metadata": {},
     "output_type": "execute_result"
    }
   ],
   "source": [
    "d6"
   ]
  },
  {
   "cell_type": "code",
   "execution_count": 40,
   "id": "425a7c68-d7a3-4434-842b-2aa5bc67c6ed",
   "metadata": {},
   "outputs": [
    {
     "data": {
      "text/plain": [
       "1"
      ]
     },
     "execution_count": 40,
     "metadata": {},
     "output_type": "execute_result"
    }
   ],
   "source": [
    "d6['class_time']['dsa']"
   ]
  },
  {
   "cell_type": "code",
   "execution_count": 41,
   "id": "fe992419-5c7a-41da-a369-edcdeb6e8d29",
   "metadata": {},
   "outputs": [
    {
     "data": {
      "text/plain": [
       "{'number': [2, 4, 6, 7, 8],\n",
       " 'assignmennt': (2, 3, 4, 5, 6, 7),\n",
       " 'launch_date': {14, 22, 28},\n",
       " 'class_time': {'web_deb': 8, 'data science master': 10, 'dsa': 1}}"
      ]
     },
     "execution_count": 41,
     "metadata": {},
     "output_type": "execute_result"
    }
   ],
   "source": [
    "d6"
   ]
  },
  {
   "cell_type": "code",
   "execution_count": 42,
   "id": "efc3d29b-278e-4d7a-b4b6-620719efe62b",
   "metadata": {},
   "outputs": [],
   "source": [
    "d6['mentor']=[\"deepak\",\"tapan\",\"seema\"]"
   ]
  },
  {
   "cell_type": "code",
   "execution_count": 43,
   "id": "05a5d920-6392-46e2-92f2-a27ddffa9d6b",
   "metadata": {},
   "outputs": [
    {
     "data": {
      "text/plain": [
       "{'number': [2, 4, 6, 7, 8],\n",
       " 'assignmennt': (2, 3, 4, 5, 6, 7),\n",
       " 'launch_date': {14, 22, 28},\n",
       " 'class_time': {'web_deb': 8, 'data science master': 10, 'dsa': 1},\n",
       " 'mentor': ['deepak', 'tapan', 'seema']}"
      ]
     },
     "execution_count": 43,
     "metadata": {},
     "output_type": "execute_result"
    }
   ],
   "source": [
    "d6"
   ]
  },
  {
   "cell_type": "code",
   "execution_count": 44,
   "id": "efce75ef-c6ca-4620-9f0a-e8a6ddfcafff",
   "metadata": {},
   "outputs": [],
   "source": [
    "del d6['number']"
   ]
  },
  {
   "cell_type": "code",
   "execution_count": 45,
   "id": "cbe8565e-ec35-4dc8-bfe6-d2d40d6fe578",
   "metadata": {},
   "outputs": [
    {
     "data": {
      "text/plain": [
       "{'assignmennt': (2, 3, 4, 5, 6, 7),\n",
       " 'launch_date': {14, 22, 28},\n",
       " 'class_time': {'web_deb': 8, 'data science master': 10, 'dsa': 1},\n",
       " 'mentor': ['deepak', 'tapan', 'seema']}"
      ]
     },
     "execution_count": 45,
     "metadata": {},
     "output_type": "execute_result"
    }
   ],
   "source": [
    "d6"
   ]
  },
  {
   "cell_type": "code",
   "execution_count": 46,
   "id": "17bd0c5c-251c-40f0-8b82-f9cb4b586729",
   "metadata": {},
   "outputs": [
    {
     "data": {
      "text/plain": [
       "['assignmennt', 'launch_date', 'class_time', 'mentor']"
      ]
     },
     "execution_count": 46,
     "metadata": {},
     "output_type": "execute_result"
    }
   ],
   "source": [
    "list(d6.keys())"
   ]
  },
  {
   "cell_type": "code",
   "execution_count": 49,
   "id": "2bf98571-c3e8-41c3-acc9-a078b44efa78",
   "metadata": {},
   "outputs": [
    {
     "data": {
      "text/plain": [
       "[(2, 3, 4, 5, 6, 7),\n",
       " {14, 22, 28},\n",
       " {'web_deb': 8, 'data science master': 10, 'dsa': 1},\n",
       " ['deepak', 'tapan', 'seema']]"
      ]
     },
     "execution_count": 49,
     "metadata": {},
     "output_type": "execute_result"
    }
   ],
   "source": [
    "list(d6.values())"
   ]
  },
  {
   "cell_type": "code",
   "execution_count": 50,
   "id": "d4a47e72-0e17-4746-9f25-261d16516239",
   "metadata": {},
   "outputs": [
    {
     "data": {
      "text/plain": [
       "[('assignmennt', (2, 3, 4, 5, 6, 7)),\n",
       " ('launch_date', {14, 22, 28}),\n",
       " ('class_time', {'web_deb': 8, 'data science master': 10, 'dsa': 1}),\n",
       " ('mentor', ['deepak', 'tapan', 'seema'])]"
      ]
     },
     "execution_count": 50,
     "metadata": {},
     "output_type": "execute_result"
    }
   ],
   "source": [
    "list(d6.items())"
   ]
  },
  {
   "cell_type": "code",
   "execution_count": null,
   "id": "7b798fbf-d4c1-4dba-9d49-a520a508f4cc",
   "metadata": {},
   "outputs": [],
   "source": []
  }
 ],
 "metadata": {
  "kernelspec": {
   "display_name": "Python 3 (ipykernel)",
   "language": "python",
   "name": "python3"
  },
  "language_info": {
   "codemirror_mode": {
    "name": "ipython",
    "version": 3
   },
   "file_extension": ".py",
   "mimetype": "text/x-python",
   "name": "python",
   "nbconvert_exporter": "python",
   "pygments_lexer": "ipython3",
   "version": "3.12.3"
  }
 },
 "nbformat": 4,
 "nbformat_minor": 5
}
