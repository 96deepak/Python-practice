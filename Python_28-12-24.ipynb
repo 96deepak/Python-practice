{
 "cells": [
  {
   "cell_type": "code",
   "execution_count": 14,
   "id": "47143e7f-64ba-43b2-a86e-6b61939ede4d",
   "metadata": {},
   "outputs": [
    {
     "data": {
      "text/plain": [
       "2"
      ]
     },
     "execution_count": 14,
     "metadata": {},
     "output_type": "execute_result"
    }
   ],
   "source": [
    "1+1"
   ]
  },
  {
   "cell_type": "code",
   "execution_count": 15,
   "id": "535162a8-85c2-4b5c-9d39-58fb068ffe5d",
   "metadata": {},
   "outputs": [
    {
     "data": {
      "text/plain": [
       "10"
      ]
     },
     "execution_count": 15,
     "metadata": {},
     "output_type": "execute_result"
    }
   ],
   "source": [
    "5+5"
   ]
  },
  {
   "cell_type": "code",
   "execution_count": 16,
   "id": "31fc223f-8b5a-4cc1-b79d-72c59994df6f",
   "metadata": {},
   "outputs": [
    {
     "data": {
      "text/plain": [
       "30"
      ]
     },
     "execution_count": 16,
     "metadata": {},
     "output_type": "execute_result"
    }
   ],
   "source": [
    "5*6"
   ]
  },
  {
   "cell_type": "code",
   "execution_count": 17,
   "id": "5640a9f8-3bd7-4eee-b531-6fa672313639",
   "metadata": {},
   "outputs": [],
   "source": [
    "a=10"
   ]
  },
  {
   "cell_type": "code",
   "execution_count": 18,
   "id": "ae85f95a-e673-402a-bfc6-31427bf1de89",
   "metadata": {},
   "outputs": [
    {
     "data": {
      "text/plain": [
       "10"
      ]
     },
     "execution_count": 18,
     "metadata": {},
     "output_type": "execute_result"
    }
   ],
   "source": [
    "a"
   ]
  },
  {
   "cell_type": "code",
   "execution_count": 19,
   "id": "476e5d9d-c653-44f3-b260-b3f8e80bc1b4",
   "metadata": {},
   "outputs": [],
   "source": [
    "b=5"
   ]
  },
  {
   "cell_type": "code",
   "execution_count": 20,
   "id": "99360ddf-58a4-4104-b2fd-21e3f5c16699",
   "metadata": {},
   "outputs": [
    {
     "data": {
      "text/plain": [
       "50"
      ]
     },
     "execution_count": 20,
     "metadata": {},
     "output_type": "execute_result"
    }
   ],
   "source": [
    "a*b"
   ]
  },
  {
   "cell_type": "code",
   "execution_count": 21,
   "id": "3643e14c-9e2c-4161-bf95-d51c57dec34a",
   "metadata": {},
   "outputs": [],
   "source": [
    "deep=30"
   ]
  },
  {
   "cell_type": "code",
   "execution_count": 22,
   "id": "bf4a509e-40e0-4971-9f58-92ec707c2d14",
   "metadata": {},
   "outputs": [
    {
     "data": {
      "text/plain": [
       "30"
      ]
     },
     "execution_count": 22,
     "metadata": {},
     "output_type": "execute_result"
    }
   ],
   "source": [
    "deep"
   ]
  },
  {
   "cell_type": "code",
   "execution_count": 23,
   "id": "dd0bbfc8-787e-402f-bf8e-bc35cf5c2c88",
   "metadata": {},
   "outputs": [],
   "source": [
    "sanju=5"
   ]
  },
  {
   "cell_type": "code",
   "execution_count": 24,
   "id": "72f8231c-e629-4e1e-b551-35e7724a395a",
   "metadata": {},
   "outputs": [
    {
     "data": {
      "text/plain": [
       "35"
      ]
     },
     "execution_count": 24,
     "metadata": {},
     "output_type": "execute_result"
    }
   ],
   "source": [
    "deep+sanju"
   ]
  },
  {
   "cell_type": "code",
   "execution_count": 25,
   "id": "4f5b0f92-1c5e-4ca9-9f09-456afcc09f8d",
   "metadata": {},
   "outputs": [
    {
     "ename": "NameError",
     "evalue": "name 'tpye' is not defined",
     "output_type": "error",
     "traceback": [
      "\u001b[1;31m---------------------------------------------------------------------------\u001b[0m",
      "\u001b[1;31mNameError\u001b[0m                                 Traceback (most recent call last)",
      "Cell \u001b[1;32mIn[25], line 1\u001b[0m\n\u001b[1;32m----> 1\u001b[0m tpye(deep)\n",
      "\u001b[1;31mNameError\u001b[0m: name 'tpye' is not defined"
     ]
    }
   ],
   "source": [
    "tpye(deep)"
   ]
  },
  {
   "cell_type": "code",
   "execution_count": null,
   "id": "6c257190-f0ba-4833-906d-3284733ef8e1",
   "metadata": {},
   "outputs": [],
   "source": [
    "type(deep)"
   ]
  },
  {
   "cell_type": "code",
   "execution_count": null,
   "id": "0f7292ab-b8a6-4fc5-b11b-874b37832e8d",
   "metadata": {},
   "outputs": [],
   "source": [
    "tpye(sanju)"
   ]
  },
  {
   "cell_type": "code",
   "execution_count": null,
   "id": "ef3268e5-dbfc-4557-bc69-ff3c4ae5ed42",
   "metadata": {},
   "outputs": [],
   "source": [
    "type(sanju)"
   ]
  },
  {
   "cell_type": "code",
   "execution_count": null,
   "id": "14060885-896c-4d08-b85a-fb604f75b414",
   "metadata": {},
   "outputs": [],
   "source": [
    "type(a)"
   ]
  },
  {
   "cell_type": "code",
   "execution_count": null,
   "id": "54cb2419-9b2f-433e-bc6b-89e99154d843",
   "metadata": {},
   "outputs": [],
   "source": [
    "b=0.9"
   ]
  },
  {
   "cell_type": "code",
   "execution_count": null,
   "id": "c45f46aa-decf-422c-bbc3-09acbd69d4cf",
   "metadata": {},
   "outputs": [],
   "source": [
    "type(b)"
   ]
  },
  {
   "cell_type": "code",
   "execution_count": null,
   "id": "d5f8fda8-bb48-4e66-bee0-338c35ecde94",
   "metadata": {},
   "outputs": [],
   "source": [
    "c=.99"
   ]
  },
  {
   "cell_type": "code",
   "execution_count": null,
   "id": "74a17a61-759d-4e08-8966-9b5516cd2057",
   "metadata": {},
   "outputs": [],
   "source": [
    "type(c)"
   ]
  },
  {
   "cell_type": "code",
   "execution_count": null,
   "id": "79b3af50-30c0-44b1-8d48-21cbc968eebf",
   "metadata": {},
   "outputs": [],
   "source": [
    "d=\"deepak\""
   ]
  },
  {
   "cell_type": "code",
   "execution_count": null,
   "id": "edadf6c1-52c6-49e8-bd9c-728d086a0fb9",
   "metadata": {},
   "outputs": [],
   "source": [
    "type(d)"
   ]
  },
  {
   "cell_type": "code",
   "execution_count": null,
   "id": "f9f7aa69-ad00-4e9a-bdec-d8523c4f61bd",
   "metadata": {},
   "outputs": [],
   "source": [
    "e='this is my fist class'"
   ]
  },
  {
   "cell_type": "code",
   "execution_count": null,
   "id": "8698b489-0951-48e8-9afc-5dae04bfa80a",
   "metadata": {},
   "outputs": [],
   "source": [
    "type(e)"
   ]
  },
  {
   "cell_type": "code",
   "execution_count": null,
   "id": "d89364de-c115-462a-97c3-87acb9305c69",
   "metadata": {},
   "outputs": [],
   "source": [
    "type(e)"
   ]
  },
  {
   "cell_type": "code",
   "execution_count": null,
   "id": "a0be63c3-cc79-457b-9bca-149d14a40f20",
   "metadata": {},
   "outputs": [],
   "source": [
    "e"
   ]
  },
  {
   "cell_type": "code",
   "execution_count": null,
   "id": "d1d817d8-a8d1-4430-b3f1-7713f78e5810",
   "metadata": {},
   "outputs": [],
   "source": [
    "type(e)"
   ]
  },
  {
   "cell_type": "code",
   "execution_count": null,
   "id": "240e59cd-93d1-42d0-b5c9-a01f792642c5",
   "metadata": {},
   "outputs": [],
   "source": [
    "f='this is deepak'"
   ]
  },
  {
   "cell_type": "code",
   "execution_count": null,
   "id": "76a72808-df59-4220-a495-0abd5b589588",
   "metadata": {},
   "outputs": [],
   "source": [
    "type(f)"
   ]
  },
  {
   "cell_type": "code",
   "execution_count": null,
   "id": "e401df2d-5913-4946-abdd-d640f7767ca3",
   "metadata": {},
   "outputs": [],
   "source": [
    "f"
   ]
  },
  {
   "cell_type": "code",
   "execution_count": null,
   "id": "82456fea-7c13-4ac7-a5cd-ec56744e2120",
   "metadata": {},
   "outputs": [],
   "source": [
    "g='ram'"
   ]
  },
  {
   "cell_type": "code",
   "execution_count": null,
   "id": "6b3827a7-aaf7-4ca6-a2ab-98df4fe2315e",
   "metadata": {},
   "outputs": [],
   "source": [
    "g"
   ]
  },
  {
   "cell_type": "code",
   "execution_count": null,
   "id": "7bca4084-732b-4ee7-af5d-2c579280cf58",
   "metadata": {},
   "outputs": [],
   "source": [
    "type(g)"
   ]
  },
  {
   "cell_type": "code",
   "execution_count": null,
   "id": "5b338154-a8a9-4e1b-85a8-274e2a18feae",
   "metadata": {},
   "outputs": [],
   "source": [
    "h=\"this is me\""
   ]
  },
  {
   "cell_type": "code",
   "execution_count": null,
   "id": "6e679dc0-0be1-44e6-a6c2-952473d0bdd3",
   "metadata": {},
   "outputs": [],
   "source": [
    "h"
   ]
  },
  {
   "cell_type": "code",
   "execution_count": null,
   "id": "60f78877-61d9-43d8-baf3-2954ed02c382",
   "metadata": {},
   "outputs": [],
   "source": [
    "type(h)"
   ]
  },
  {
   "cell_type": "code",
   "execution_count": null,
   "id": "773b41a4-e675-49a6-9118-d53d96b77977",
   "metadata": {},
   "outputs": [],
   "source": [
    "m = \"who are you\""
   ]
  },
  {
   "cell_type": "code",
   "execution_count": null,
   "id": "4f87ab3d-6769-466c-989d-3e9c25c03714",
   "metadata": {},
   "outputs": [],
   "source": [
    "type(m)"
   ]
  },
  {
   "cell_type": "code",
   "execution_count": null,
   "id": "b636b81d-6bf7-4280-b36b-aff3a5ee8f59",
   "metadata": {},
   "outputs": [],
   "source": [
    "l=\"Rahul\""
   ]
  },
  {
   "cell_type": "code",
   "execution_count": null,
   "id": "b6f416ce-222e-4ac4-b5a1-b35a7672916b",
   "metadata": {},
   "outputs": [],
   "source": [
    "type(l)"
   ]
  },
  {
   "cell_type": "code",
   "execution_count": null,
   "id": "e68600b5-47f8-41c4-bd38-fd4e06e0bd08",
   "metadata": {},
   "outputs": [],
   "source": [
    "ee='hasan'"
   ]
  },
  {
   "cell_type": "code",
   "execution_count": null,
   "id": "e48cc5c3-db73-4511-a831-9c61bfd309db",
   "metadata": {},
   "outputs": [],
   "source": [
    "type(ee)"
   ]
  },
  {
   "cell_type": "code",
   "execution_count": null,
   "id": "e18e06d3-ccf3-425e-aefc-f8d3a3406a8f",
   "metadata": {},
   "outputs": [],
   "source": [
    "ee"
   ]
  },
  {
   "cell_type": "code",
   "execution_count": null,
   "id": "77d20489-1372-452d-bf26-ab265d7ac203",
   "metadata": {},
   "outputs": [],
   "source": [
    "type(ee)"
   ]
  },
  {
   "cell_type": "code",
   "execution_count": null,
   "id": "ff0e695f-0d6e-4c41-b2fc-4973397608de",
   "metadata": {},
   "outputs": [],
   "source": [
    "type(ee)"
   ]
  },
  {
   "cell_type": "code",
   "execution_count": null,
   "id": "af00afa9-26d7-4d80-b366-2c6f7a045180",
   "metadata": {},
   "outputs": [],
   "source": [
    "z='my name is khan'"
   ]
  },
  {
   "cell_type": "code",
   "execution_count": null,
   "id": "004d7012-64cb-4dd0-aa5c-0c9daf766365",
   "metadata": {},
   "outputs": [],
   "source": [
    "type(z)"
   ]
  },
  {
   "cell_type": "code",
   "execution_count": null,
   "id": "ed77a03f-dbc6-4f7e-97b9-32ce8ec0941d",
   "metadata": {},
   "outputs": [],
   "source": [
    "n=True"
   ]
  },
  {
   "cell_type": "code",
   "execution_count": null,
   "id": "537bb336-2ddf-45f5-ac85-702123416fd6",
   "metadata": {},
   "outputs": [],
   "source": [
    "type(n)"
   ]
  },
  {
   "cell_type": "code",
   "execution_count": null,
   "id": "f5453370-9cde-4255-821e-6ea80a6c3b01",
   "metadata": {},
   "outputs": [],
   "source": [
    "N=False"
   ]
  },
  {
   "cell_type": "code",
   "execution_count": null,
   "id": "b821b7fb-a2a0-4c3c-b4cb-271b8112297d",
   "metadata": {},
   "outputs": [],
   "source": [
    "type(N)"
   ]
  },
  {
   "cell_type": "code",
   "execution_count": null,
   "id": "d68c5251-e7e5-430a-ae7b-aa8a096e9766",
   "metadata": {},
   "outputs": [],
   "source": [
    "n+N"
   ]
  },
  {
   "cell_type": "code",
   "execution_count": null,
   "id": "632a6bcf-9678-4f5b-bb2c-eeda5b58f503",
   "metadata": {},
   "outputs": [],
   "source": [
    "Trur*True"
   ]
  },
  {
   "cell_type": "code",
   "execution_count": null,
   "id": "b728890e-0323-4ee6-bd67-573bff56e8fa",
   "metadata": {},
   "outputs": [],
   "source": [
    "True*True"
   ]
  },
  {
   "cell_type": "code",
   "execution_count": null,
   "id": "d41cfd10-73f4-44f8-b9e0-689f1868ccb0",
   "metadata": {},
   "outputs": [],
   "source": [
    "True*False"
   ]
  },
  {
   "cell_type": "code",
   "execution_count": null,
   "id": "1eb784cd-bf24-46ab-8ed7-c6101b74d068",
   "metadata": {},
   "outputs": [],
   "source": [
    "True/False"
   ]
  },
  {
   "cell_type": "code",
   "execution_count": null,
   "id": "631cb978-e6a0-401d-a562-37a4339d6b2e",
   "metadata": {},
   "outputs": [],
   "source": [
    "v=5+8j"
   ]
  },
  {
   "cell_type": "code",
   "execution_count": null,
   "id": "7c3fa1ca-a6ad-4761-b574-a09bc27d88cf",
   "metadata": {},
   "outputs": [],
   "source": [
    "type(v)"
   ]
  },
  {
   "cell_type": "code",
   "execution_count": null,
   "id": "c73214b0-98fe-4e49-8601-60d25578b93d",
   "metadata": {},
   "outputs": [],
   "source": [
    "v.real"
   ]
  },
  {
   "cell_type": "code",
   "execution_count": null,
   "id": "f4fa7041-348f-4abe-858e-45e5af23432e",
   "metadata": {},
   "outputs": [],
   "source": [
    "v.imag"
   ]
  },
  {
   "cell_type": "code",
   "execution_count": null,
   "id": "d976d10a-1d0e-48cb-a28c-66873bbf5557",
   "metadata": {},
   "outputs": [],
   "source": [
    "v.image"
   ]
  },
  {
   "cell_type": "code",
   "execution_count": null,
   "id": "b73f81d7-6850-40f9-af98-6d65fa6635f0",
   "metadata": {},
   "outputs": [],
   "source": [
    "v.imag"
   ]
  },
  {
   "cell_type": "code",
   "execution_count": null,
   "id": "6056b802-4953-40ae-9a43-a303739280c8",
   "metadata": {},
   "outputs": [],
   "source": [
    "type(v)"
   ]
  },
  {
   "cell_type": "code",
   "execution_count": null,
   "id": "610a2e2c-94ac-450b-9d64-8ed2692841ed",
   "metadata": {},
   "outputs": [],
   "source": [
    "print(\"my name deepak\")"
   ]
  },
  {
   "cell_type": "raw",
   "id": "e1e9858f-9248-4bd6-8721-7f13053a8046",
   "metadata": {},
   "source": [
    "print(a)"
   ]
  },
  {
   "cell_type": "code",
   "execution_count": null,
   "id": "fa84cc26-743b-4150-8f14-6fb7fed1dd75",
   "metadata": {},
   "outputs": [],
   "source": [
    "s=\"pw skills\""
   ]
  },
  {
   "cell_type": "code",
   "execution_count": null,
   "id": "99c15c25-57be-4f21-bf8c-099e071b21d0",
   "metadata": {},
   "outputs": [],
   "source": [
    "type(s)"
   ]
  },
  {
   "cell_type": "code",
   "execution_count": null,
   "id": "9079d80c-4c3b-4f08-96f4-77f74987063b",
   "metadata": {},
   "outputs": [],
   "source": [
    "s(2)"
   ]
  },
  {
   "cell_type": "code",
   "execution_count": null,
   "id": "3e2751f7-8aa3-4f81-8d89-77e947caec35",
   "metadata": {},
   "outputs": [],
   "source": [
    "s[2]"
   ]
  },
  {
   "cell_type": "code",
   "execution_count": null,
   "id": "117d4577-e7fb-47b0-95ff-ef9027a81b27",
   "metadata": {},
   "outputs": [],
   "source": [
    "s[2]"
   ]
  },
  {
   "cell_type": "code",
   "execution_count": 1,
   "id": "b18f4eed-454a-485e-83b0-5ab0e57f0907",
   "metadata": {},
   "outputs": [],
   "source": [
    "s=\"pw skills\""
   ]
  },
  {
   "cell_type": "code",
   "execution_count": 2,
   "id": "c1552695-f2fb-4d15-8eac-4316307b3def",
   "metadata": {},
   "outputs": [
    {
     "data": {
      "text/plain": [
       "'pw skills'"
      ]
     },
     "execution_count": 2,
     "metadata": {},
     "output_type": "execute_result"
    }
   ],
   "source": [
    "s"
   ]
  },
  {
   "cell_type": "code",
   "execution_count": 3,
   "id": "8b3fa4c1-f836-4832-ad5f-03f1b6107dea",
   "metadata": {},
   "outputs": [
    {
     "data": {
      "text/plain": [
       "' '"
      ]
     },
     "execution_count": 3,
     "metadata": {},
     "output_type": "execute_result"
    }
   ],
   "source": [
    "s[2]"
   ]
  },
  {
   "cell_type": "code",
   "execution_count": 4,
   "id": "1b2bcc1b-683d-47e0-89ac-3907196e9133",
   "metadata": {},
   "outputs": [
    {
     "data": {
      "text/plain": [
       "'s'"
      ]
     },
     "execution_count": 4,
     "metadata": {},
     "output_type": "execute_result"
    }
   ],
   "source": [
    "s[3]"
   ]
  },
  {
   "cell_type": "code",
   "execution_count": 5,
   "id": "4c2d47b0-36d5-405a-91a5-f5c709c98d8f",
   "metadata": {},
   "outputs": [
    {
     "data": {
      "text/plain": [
       "'s'"
      ]
     },
     "execution_count": 5,
     "metadata": {},
     "output_type": "execute_result"
    }
   ],
   "source": [
    "s[-1]"
   ]
  },
  {
   "cell_type": "code",
   "execution_count": 6,
   "id": "c0d833ba-d286-40d3-a585-319479b7265f",
   "metadata": {},
   "outputs": [
    {
     "data": {
      "text/plain": [
       "'pw'"
      ]
     },
     "execution_count": 6,
     "metadata": {},
     "output_type": "execute_result"
    }
   ],
   "source": [
    "s[0:2]"
   ]
  },
  {
   "cell_type": "code",
   "execution_count": 7,
   "id": "64fc1320-3f56-412a-8506-b47df100bdda",
   "metadata": {},
   "outputs": [
    {
     "data": {
      "text/plain": [
       "'pw'"
      ]
     },
     "execution_count": 7,
     "metadata": {},
     "output_type": "execute_result"
    }
   ],
   "source": [
    "s[0:2:1]"
   ]
  },
  {
   "cell_type": "code",
   "execution_count": 8,
   "id": "926c7dfb-bced-4059-bedb-12ba5af5febd",
   "metadata": {},
   "outputs": [
    {
     "data": {
      "text/plain": [
       "'p kl'"
      ]
     },
     "execution_count": 8,
     "metadata": {},
     "output_type": "execute_result"
    }
   ],
   "source": [
    "s[0:8:2]"
   ]
  },
  {
   "cell_type": "code",
   "execution_count": 9,
   "id": "f7413a51-066b-4c41-b3c0-b1360a36af0d",
   "metadata": {},
   "outputs": [
    {
     "data": {
      "text/plain": [
       "'p kls'"
      ]
     },
     "execution_count": 9,
     "metadata": {},
     "output_type": "execute_result"
    }
   ],
   "source": [
    "s[::2]"
   ]
  },
  {
   "cell_type": "code",
   "execution_count": 10,
   "id": "e923e9d5-cf39-40f3-84c6-7f16bf2ef7a6",
   "metadata": {},
   "outputs": [
    {
     "data": {
      "text/plain": [
       "'p kls'"
      ]
     },
     "execution_count": 10,
     "metadata": {},
     "output_type": "execute_result"
    }
   ],
   "source": [
    "s[::2]"
   ]
  },
  {
   "cell_type": "code",
   "execution_count": 11,
   "id": "0079a086-a61d-4050-9363-a1b197869fbe",
   "metadata": {},
   "outputs": [
    {
     "data": {
      "text/plain": [
       "'s'"
      ]
     },
     "execution_count": 11,
     "metadata": {},
     "output_type": "execute_result"
    }
   ],
   "source": [
    "s[-1]"
   ]
  },
  {
   "cell_type": "code",
   "execution_count": 12,
   "id": "cd8b1f55-dab5-4e51-8a0a-8c98b0965ec6",
   "metadata": {},
   "outputs": [
    {
     "data": {
      "text/plain": [
       "'slliks wp'"
      ]
     },
     "execution_count": 12,
     "metadata": {},
     "output_type": "execute_result"
    }
   ],
   "source": [
    "s[::-1]"
   ]
  },
  {
   "cell_type": "code",
   "execution_count": 13,
   "id": "8322ea3a-e679-4c84-a100-7ef77b2d071e",
   "metadata": {},
   "outputs": [
    {
     "data": {
      "text/plain": [
       "''"
      ]
     },
     "execution_count": 13,
     "metadata": {},
     "output_type": "execute_result"
    }
   ],
   "source": [
    "s[2:7:-1]"
   ]
  },
  {
   "cell_type": "code",
   "execution_count": 14,
   "id": "1678fb3b-5838-4ea8-84e6-8900ed40c09e",
   "metadata": {},
   "outputs": [
    {
     "data": {
      "text/plain": [
       "'slliks'"
      ]
     },
     "execution_count": 14,
     "metadata": {},
     "output_type": "execute_result"
    }
   ],
   "source": [
    "s[8:2:-1]"
   ]
  },
  {
   "cell_type": "code",
   "execution_count": 15,
   "id": "e209d7f3-6b80-4dd3-b9ba-8686283c0eba",
   "metadata": {},
   "outputs": [
    {
     "data": {
      "text/plain": [
       "''"
      ]
     },
     "execution_count": 15,
     "metadata": {},
     "output_type": "execute_result"
    }
   ],
   "source": [
    "s[8:0]"
   ]
  },
  {
   "cell_type": "code",
   "execution_count": 16,
   "id": "042c7d05-34b7-4be5-9c6b-6dfc104ee19c",
   "metadata": {},
   "outputs": [
    {
     "data": {
      "text/plain": [
       "'slliks wp'"
      ]
     },
     "execution_count": 16,
     "metadata": {},
     "output_type": "execute_result"
    }
   ],
   "source": [
    "s[::-1]"
   ]
  },
  {
   "cell_type": "code",
   "execution_count": 17,
   "id": "8ecaaaae-7d7c-47d7-a9a2-01867b56bcd3",
   "metadata": {},
   "outputs": [
    {
     "data": {
      "text/plain": [
       "'pw skills'"
      ]
     },
     "execution_count": 17,
     "metadata": {},
     "output_type": "execute_result"
    }
   ],
   "source": [
    "s[::1]"
   ]
  },
  {
   "cell_type": "code",
   "execution_count": 18,
   "id": "3b72460c-26c4-4dff-9437-c15d206664bd",
   "metadata": {},
   "outputs": [
    {
     "data": {
      "text/plain": [
       "'pw skills'"
      ]
     },
     "execution_count": 18,
     "metadata": {},
     "output_type": "execute_result"
    }
   ],
   "source": [
    "s[:90:]"
   ]
  },
  {
   "cell_type": "code",
   "execution_count": 19,
   "id": "9cb536c2-992f-4d75-9059-ce6f88ce5cde",
   "metadata": {},
   "outputs": [
    {
     "data": {
      "text/plain": [
       "''"
      ]
     },
     "execution_count": 19,
     "metadata": {},
     "output_type": "execute_result"
    }
   ],
   "source": [
    "s[:-90:]"
   ]
  },
  {
   "cell_type": "code",
   "execution_count": 20,
   "id": "6c64ee28-d0ef-45e3-a56f-60e1cd0a236b",
   "metadata": {},
   "outputs": [
    {
     "data": {
      "text/plain": [
       "'slliks wp'"
      ]
     },
     "execution_count": 20,
     "metadata": {},
     "output_type": "execute_result"
    }
   ],
   "source": [
    "s[:-90:-1]"
   ]
  },
  {
   "cell_type": "code",
   "execution_count": 21,
   "id": "c6396ca9-032e-454d-96cd-cbfa9182ea88",
   "metadata": {},
   "outputs": [],
   "source": [
    "c=200"
   ]
  },
  {
   "cell_type": "code",
   "execution_count": 22,
   "id": "9e11838b-b010-428c-9af9-ce24a1228714",
   "metadata": {},
   "outputs": [
    {
     "data": {
      "text/plain": [
       "200"
      ]
     },
     "execution_count": 22,
     "metadata": {},
     "output_type": "execute_result"
    }
   ],
   "source": [
    "c"
   ]
  },
  {
   "cell_type": "code",
   "execution_count": 23,
   "id": "5f350c42-e1ca-45ef-a7a6-5f31f035da08",
   "metadata": {},
   "outputs": [],
   "source": [
    "s1=\"this is my string class\""
   ]
  },
  {
   "cell_type": "code",
   "execution_count": 24,
   "id": "98fb3f36-78fe-4f67-b021-880a8b38bf4f",
   "metadata": {},
   "outputs": [
    {
     "data": {
      "text/plain": [
       "'this is my string class'"
      ]
     },
     "execution_count": 24,
     "metadata": {},
     "output_type": "execute_result"
    }
   ],
   "source": [
    "s1"
   ]
  },
  {
   "cell_type": "code",
   "execution_count": 25,
   "id": "0bc45485-c9e3-4170-a3da-3fe78efbf6dc",
   "metadata": {},
   "outputs": [
    {
     "data": {
      "text/plain": [
       "23"
      ]
     },
     "execution_count": 25,
     "metadata": {},
     "output_type": "execute_result"
    }
   ],
   "source": [
    "len(s1)"
   ]
  },
  {
   "cell_type": "code",
   "execution_count": 26,
   "id": "d49c8eff-6460-484b-84fc-5ee258efc383",
   "metadata": {},
   "outputs": [
    {
     "ename": "AttributeError",
     "evalue": "'str' object has no attribute 'fins'",
     "output_type": "error",
     "traceback": [
      "\u001b[1;31m---------------------------------------------------------------------------\u001b[0m",
      "\u001b[1;31mAttributeError\u001b[0m                            Traceback (most recent call last)",
      "Cell \u001b[1;32mIn[26], line 1\u001b[0m\n\u001b[1;32m----> 1\u001b[0m s1\u001b[38;5;241m.\u001b[39mfins(\u001b[38;5;124m\"\u001b[39m\u001b[38;5;124ms\u001b[39m\u001b[38;5;124m\"\u001b[39m)\n",
      "\u001b[1;31mAttributeError\u001b[0m: 'str' object has no attribute 'fins'"
     ]
    }
   ],
   "source": [
    "s1.fins(\"s\")"
   ]
  },
  {
   "cell_type": "code",
   "execution_count": 27,
   "id": "d3415495-2a29-408f-9705-69a511cfe4d4",
   "metadata": {},
   "outputs": [
    {
     "ename": "AttributeError",
     "evalue": "'str' object has no attribute 'fins'",
     "output_type": "error",
     "traceback": [
      "\u001b[1;31m---------------------------------------------------------------------------\u001b[0m",
      "\u001b[1;31mAttributeError\u001b[0m                            Traceback (most recent call last)",
      "Cell \u001b[1;32mIn[27], line 1\u001b[0m\n\u001b[1;32m----> 1\u001b[0m s1\u001b[38;5;241m.\u001b[39mfins(\u001b[38;5;124m\"\u001b[39m\u001b[38;5;124ms\u001b[39m\u001b[38;5;124m\"\u001b[39m)\n",
      "\u001b[1;31mAttributeError\u001b[0m: 'str' object has no attribute 'fins'"
     ]
    }
   ],
   "source": [
    "s1.fins(\"s\")"
   ]
  },
  {
   "cell_type": "code",
   "execution_count": 28,
   "id": "1c9f5976-e905-42a7-a836-93dc04157359",
   "metadata": {},
   "outputs": [
    {
     "data": {
      "text/plain": [
       "3"
      ]
     },
     "execution_count": 28,
     "metadata": {},
     "output_type": "execute_result"
    }
   ],
   "source": [
    "s1.find(\"s\")"
   ]
  },
  {
   "cell_type": "code",
   "execution_count": 29,
   "id": "38d453da-188c-4249-b8ac-e61ea81b6745",
   "metadata": {},
   "outputs": [
    {
     "data": {
      "text/plain": [
       "2"
      ]
     },
     "execution_count": 29,
     "metadata": {},
     "output_type": "execute_result"
    }
   ],
   "source": [
    "s1.find(\"is\")"
   ]
  },
  {
   "cell_type": "code",
   "execution_count": 30,
   "id": "5e73a5d0-2d6b-48d7-81d8-c02553670cd6",
   "metadata": {},
   "outputs": [
    {
     "data": {
      "text/plain": [
       "-1"
      ]
     },
     "execution_count": 30,
     "metadata": {},
     "output_type": "execute_result"
    }
   ],
   "source": [
    "s1.find(\"S\")"
   ]
  },
  {
   "cell_type": "code",
   "execution_count": 31,
   "id": "3ee832b9-2eed-450d-a38e-8ea9fcc5babf",
   "metadata": {},
   "outputs": [
    {
     "data": {
      "text/plain": [
       "5"
      ]
     },
     "execution_count": 31,
     "metadata": {},
     "output_type": "execute_result"
    }
   ],
   "source": [
    "s1.count(\"s\")"
   ]
  },
  {
   "cell_type": "code",
   "execution_count": 32,
   "id": "00e1c5b6-19c4-4634-b19a-7627d82279e9",
   "metadata": {},
   "outputs": [
    {
     "data": {
      "text/plain": [
       "0"
      ]
     },
     "execution_count": 32,
     "metadata": {},
     "output_type": "execute_result"
    }
   ],
   "source": [
    "s1.count(\"z\")"
   ]
  },
  {
   "cell_type": "code",
   "execution_count": 33,
   "id": "4be9c15d-abcf-403e-ab1d-11d6dff72982",
   "metadata": {},
   "outputs": [
    {
     "data": {
      "text/plain": [
       "<function str.upper()>"
      ]
     },
     "execution_count": 33,
     "metadata": {},
     "output_type": "execute_result"
    }
   ],
   "source": [
    "s1.upper"
   ]
  },
  {
   "cell_type": "code",
   "execution_count": 34,
   "id": "979f5bad-f868-490a-aa93-93f0977371c9",
   "metadata": {},
   "outputs": [
    {
     "data": {
      "text/plain": [
       "'THIS IS MY STRING CLASS'"
      ]
     },
     "execution_count": 34,
     "metadata": {},
     "output_type": "execute_result"
    }
   ],
   "source": [
    "s1.upper()"
   ]
  },
  {
   "cell_type": "code",
   "execution_count": 35,
   "id": "bfe7e86e-8e8c-4e3f-9042-461094805107",
   "metadata": {},
   "outputs": [
    {
     "ename": "NameError",
     "evalue": "name 's2' is not defined",
     "output_type": "error",
     "traceback": [
      "\u001b[1;31m---------------------------------------------------------------------------\u001b[0m",
      "\u001b[1;31mNameError\u001b[0m                                 Traceback (most recent call last)",
      "Cell \u001b[1;32mIn[35], line 1\u001b[0m\n\u001b[1;32m----> 1\u001b[0m s2\n",
      "\u001b[1;31mNameError\u001b[0m: name 's2' is not defined"
     ]
    }
   ],
   "source": [
    "s2"
   ]
  },
  {
   "cell_type": "code",
   "execution_count": 36,
   "id": "e0f85a91-8e40-40ed-aae6-ac8bacc47b75",
   "metadata": {},
   "outputs": [
    {
     "data": {
      "text/plain": [
       "'this is my string class'"
      ]
     },
     "execution_count": 36,
     "metadata": {},
     "output_type": "execute_result"
    }
   ],
   "source": [
    "s1"
   ]
  },
  {
   "cell_type": "code",
   "execution_count": 37,
   "id": "0488234b-3888-4257-ac87-effa343f5d6f",
   "metadata": {},
   "outputs": [
    {
     "data": {
      "text/plain": [
       "'This Is My String Class'"
      ]
     },
     "execution_count": 37,
     "metadata": {},
     "output_type": "execute_result"
    }
   ],
   "source": [
    "s1.title()"
   ]
  },
  {
   "cell_type": "code",
   "execution_count": 38,
   "id": "9fdfc9fb-7290-4df4-9bea-8326211ecadf",
   "metadata": {},
   "outputs": [
    {
     "data": {
      "text/plain": [
       "'This is my string class'"
      ]
     },
     "execution_count": 38,
     "metadata": {},
     "output_type": "execute_result"
    }
   ],
   "source": [
    "s1.capitalize()"
   ]
  },
  {
   "cell_type": "code",
   "execution_count": 39,
   "id": "422c2efd-5818-4775-ae58-5d434ff45c1a",
   "metadata": {},
   "outputs": [
    {
     "data": {
      "text/plain": [
       "'pw skills'"
      ]
     },
     "execution_count": 39,
     "metadata": {},
     "output_type": "execute_result"
    }
   ],
   "source": [
    "s"
   ]
  },
  {
   "cell_type": "code",
   "execution_count": 40,
   "id": "12d90e54-8277-40a1-9736-d9260dcdf90b",
   "metadata": {},
   "outputs": [
    {
     "ename": "TypeError",
     "evalue": "can only concatenate str (not \"int\") to str",
     "output_type": "error",
     "traceback": [
      "\u001b[1;31m---------------------------------------------------------------------------\u001b[0m",
      "\u001b[1;31mTypeError\u001b[0m                                 Traceback (most recent call last)",
      "Cell \u001b[1;32mIn[40], line 1\u001b[0m\n\u001b[1;32m----> 1\u001b[0m s\u001b[38;5;241m+\u001b[39m\u001b[38;5;241m1\u001b[39m\n",
      "\u001b[1;31mTypeError\u001b[0m: can only concatenate str (not \"int\") to str"
     ]
    }
   ],
   "source": [
    "s+1"
   ]
  },
  {
   "cell_type": "code",
   "execution_count": 41,
   "id": "0fbb05bd-801b-431f-a07f-582faf346aac",
   "metadata": {},
   "outputs": [
    {
     "ename": "NameError",
     "evalue": "name 'd' is not defined",
     "output_type": "error",
     "traceback": [
      "\u001b[1;31m---------------------------------------------------------------------------\u001b[0m",
      "\u001b[1;31mNameError\u001b[0m                                 Traceback (most recent call last)",
      "Cell \u001b[1;32mIn[41], line 1\u001b[0m\n\u001b[1;32m----> 1\u001b[0m s\u001b[38;5;241m+\u001b[39md\n",
      "\u001b[1;31mNameError\u001b[0m: name 'd' is not defined"
     ]
    }
   ],
   "source": [
    "s+d"
   ]
  },
  {
   "cell_type": "code",
   "execution_count": 42,
   "id": "15d8e89f-1635-441a-bcc6-553611582cae",
   "metadata": {},
   "outputs": [
    {
     "data": {
      "text/plain": [
       "'pw skillsthis is my string class'"
      ]
     },
     "execution_count": 42,
     "metadata": {},
     "output_type": "execute_result"
    }
   ],
   "source": [
    "s+s1"
   ]
  },
  {
   "cell_type": "code",
   "execution_count": 43,
   "id": "aaba6388-fe0c-44a2-a113-7b6d2ef279c8",
   "metadata": {},
   "outputs": [
    {
     "ename": "TypeError",
     "evalue": "unsupported operand type(s) for -: 'str' and 'str'",
     "output_type": "error",
     "traceback": [
      "\u001b[1;31m---------------------------------------------------------------------------\u001b[0m",
      "\u001b[1;31mTypeError\u001b[0m                                 Traceback (most recent call last)",
      "Cell \u001b[1;32mIn[43], line 1\u001b[0m\n\u001b[1;32m----> 1\u001b[0m s1\u001b[38;5;241m-\u001b[39ms\n",
      "\u001b[1;31mTypeError\u001b[0m: unsupported operand type(s) for -: 'str' and 'str'"
     ]
    }
   ],
   "source": [
    "s1-s"
   ]
  },
  {
   "cell_type": "code",
   "execution_count": 44,
   "id": "5a83d144-003d-40c9-94c2-ffe1e4ea7a88",
   "metadata": {},
   "outputs": [
    {
     "data": {
      "text/plain": [
       "'pw skills'"
      ]
     },
     "execution_count": 44,
     "metadata": {},
     "output_type": "execute_result"
    }
   ],
   "source": [
    "s"
   ]
  },
  {
   "cell_type": "code",
   "execution_count": 45,
   "id": "db74f9a1-8653-4378-8f20-3d5a4a66c08f",
   "metadata": {},
   "outputs": [
    {
     "data": {
      "text/plain": [
       "'pw skills4'"
      ]
     },
     "execution_count": 45,
     "metadata": {},
     "output_type": "execute_result"
    }
   ],
   "source": [
    "s+str(4)"
   ]
  },
  {
   "cell_type": "code",
   "execution_count": 46,
   "id": "59ce5b83-b4c4-4219-beb4-ce045a52716e",
   "metadata": {},
   "outputs": [
    {
     "data": {
      "text/plain": [
       "'pw skillspw skillspw skills'"
      ]
     },
     "execution_count": 46,
     "metadata": {},
     "output_type": "execute_result"
    }
   ],
   "source": [
    "s*3"
   ]
  },
  {
   "cell_type": "code",
   "execution_count": 47,
   "id": "307fcdac-77f4-40b8-a3e1-e3ccff0009a6",
   "metadata": {},
   "outputs": [
    {
     "data": {
      "text/plain": [
       "'pw skills'"
      ]
     },
     "execution_count": 47,
     "metadata": {},
     "output_type": "execute_result"
    }
   ],
   "source": [
    "s"
   ]
  },
  {
   "cell_type": "code",
   "execution_count": 48,
   "id": "3170982d-d40e-4973-b570-267c71672243",
   "metadata": {},
   "outputs": [
    {
     "ename": "TypeError",
     "evalue": "unsupported operand type(s) for /: 'str' and 'int'",
     "output_type": "error",
     "traceback": [
      "\u001b[1;31m---------------------------------------------------------------------------\u001b[0m",
      "\u001b[1;31mTypeError\u001b[0m                                 Traceback (most recent call last)",
      "Cell \u001b[1;32mIn[48], line 1\u001b[0m\n\u001b[1;32m----> 1\u001b[0m s\u001b[38;5;241m/\u001b[39m\u001b[38;5;241m3\u001b[39m\n",
      "\u001b[1;31mTypeError\u001b[0m: unsupported operand type(s) for /: 'str' and 'int'"
     ]
    }
   ],
   "source": [
    "s/3"
   ]
  },
  {
   "cell_type": "code",
   "execution_count": 49,
   "id": "954c3421-2a96-42b8-810e-4f650f7fa4d5",
   "metadata": {},
   "outputs": [
    {
     "ename": "TypeError",
     "evalue": "unsupported operand type(s) for /: 'str' and 'str'",
     "output_type": "error",
     "traceback": [
      "\u001b[1;31m---------------------------------------------------------------------------\u001b[0m",
      "\u001b[1;31mTypeError\u001b[0m                                 Traceback (most recent call last)",
      "Cell \u001b[1;32mIn[49], line 1\u001b[0m\n\u001b[1;32m----> 1\u001b[0m s1\u001b[38;5;241m/\u001b[39ms\n",
      "\u001b[1;31mTypeError\u001b[0m: unsupported operand type(s) for /: 'str' and 'str'"
     ]
    }
   ],
   "source": [
    "s1/s"
   ]
  },
  {
   "cell_type": "code",
   "execution_count": 51,
   "id": "4ba2d230-7edf-4dd1-a29b-a26e2933ae7c",
   "metadata": {},
   "outputs": [
    {
     "data": {
      "text/plain": [
       "\"don't do copy past in my class\""
      ]
     },
     "execution_count": 51,
     "metadata": {},
     "output_type": "execute_result"
    }
   ],
   "source": [
    "\"don't do copy past in my class\""
   ]
  },
  {
   "cell_type": "code",
   "execution_count": 54,
   "id": "4ae83a5f-997b-46a8-a236-ae478906ada9",
   "metadata": {},
   "outputs": [],
   "source": [
    "##This is my fist class"
   ]
  },
  {
   "cell_type": "code",
   "execution_count": null,
   "id": "19da0970-b75f-45ea-bd6e-f9bdc3ad178a",
   "metadata": {},
   "outputs": [],
   "source": []
  }
 ],
 "metadata": {
  "kernelspec": {
   "display_name": "Python 3 (ipykernel)",
   "language": "python",
   "name": "python3"
  },
  "language_info": {
   "codemirror_mode": {
    "name": "ipython",
    "version": 3
   },
   "file_extension": ".py",
   "mimetype": "text/x-python",
   "name": "python",
   "nbconvert_exporter": "python",
   "pygments_lexer": "ipython3",
   "version": "3.12.3"
  }
 },
 "nbformat": 4,
 "nbformat_minor": 5
}
