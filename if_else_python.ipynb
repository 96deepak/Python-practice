{
 "cells": [
  {
   "cell_type": "code",
   "execution_count": 7,
   "id": "87906fb3-ff93-46be-af16-c0b0e7f06650",
   "metadata": {},
   "outputs": [
    {
     "name": "stdout",
     "output_type": "stream",
     "text": [
      "you will be part of A1 batch\n"
     ]
    }
   ],
   "source": [
    "marks=60\n",
    "if marks >= 80:\n",
    "    print(\"you will be part of A0 batch\")\n",
    "elif marks >= 60 and marks <80:\n",
    "    print(\"you will be part of A1 batch\")\n",
    "elif marks >= 40 and marks < 60:\n",
    "    print(\"you will be part of A2 batch\")\n",
    "else :\n",
    "    print(\"you will be part of A3 batch\")"
   ]
  },
  {
   "cell_type": "code",
   "execution_count": 10,
   "id": "5f5d4763-1813-48d8-b254-373e0dead630",
   "metadata": {},
   "outputs": [
    {
     "name": "stdin",
     "output_type": "stream",
     "text": [
      "enter number 57\n"
     ]
    },
    {
     "name": "stdout",
     "output_type": "stream",
     "text": [
      "you will be part of A2 batch\n"
     ]
    }
   ],
   "source": [
    "marks= int(input(\"enter number\"))\n",
    "if marks >= 80:\n",
    "    print(\"you will be part of A0 batch\")\n",
    "elif marks >= 60 and marks <80:\n",
    "    print(\"you will be part of A1 batch\")\n",
    "elif marks >= 40 and marks < 60:\n",
    "    print(\"you will be part of A2 batch\")\n",
    "else :\n",
    "    print(\"you will be part of A3 batch\")"
   ]
  },
  {
   "cell_type": "code",
   "execution_count": 11,
   "id": "fb40901f-a73f-4d1c-bc90-9a0056bc4140",
   "metadata": {},
   "outputs": [
    {
     "data": {
      "text/plain": [
       "int"
      ]
     },
     "execution_count": 11,
     "metadata": {},
     "output_type": "execute_result"
    }
   ],
   "source": [
    "type(marks)"
   ]
  },
  {
   "cell_type": "code",
   "execution_count": 13,
   "id": "09adba69-4edc-4ab4-9294-3953046a186f",
   "metadata": {},
   "outputs": [
    {
     "name": "stdin",
     "output_type": "stream",
     "text": [
      "price 800\n"
     ]
    },
    {
     "name": "stdout",
     "output_type": "stream",
     "text": [
      "i will purchase\n"
     ]
    }
   ],
   "source": [
    "price = int(input(\"price\"))\n",
    "if price > 1000:\n",
    "    print(\"i will not purvhase\")\n",
    "else :\n",
    "   print(\"i will purchase\")"
   ]
  },
  {
   "cell_type": "code",
   "execution_count": 14,
   "id": "cdfe60e5-4660-4209-afc3-a19cb336ba2e",
   "metadata": {},
   "outputs": [
    {
     "name": "stdin",
     "output_type": "stream",
     "text": [
      "price 700\n"
     ]
    }
   ],
   "source": [
    "price = int(input(\"price\"))\n",
    "if price > 1000:\n",
    "    print(\"i will not purvhase\")"
   ]
  },
  {
   "cell_type": "code",
   "execution_count": 16,
   "id": "23a3302d-2d4b-4413-9861-18dc105a6e6c",
   "metadata": {},
   "outputs": [
    {
     "name": "stdin",
     "output_type": "stream",
     "text": [
      "price 7000\n"
     ]
    },
    {
     "name": "stdout",
     "output_type": "stream",
     "text": [
      "i will not purvhase\n",
      "this is too much\n"
     ]
    }
   ],
   "source": [
    "price = int(input(\"price\"))\n",
    "if price > 1000:\n",
    "    print(\"i will not purvhase\")\n",
    "    if price > 5000:\n",
    "        print(\"this is too much\")"
   ]
  },
  {
   "cell_type": "code",
   "execution_count": 24,
   "id": "d6246f75-67f7-4fe9-bb44-e38276a818eb",
   "metadata": {},
   "outputs": [
    {
     "name": "stdin",
     "output_type": "stream",
     "text": [
      "price 1500\n"
     ]
    },
    {
     "name": "stdout",
     "output_type": "stream",
     "text": [
      "i will not purvhase\n",
      "its ok\n"
     ]
    }
   ],
   "source": [
    "price = int(input(\"price\"))\n",
    "if price > 1000:\n",
    "    print(\"i will not purvhase\")\n",
    "    if price > 5000:\n",
    "        print(\"this is too much\")\n",
    "    elif price < 2000:\n",
    "       print(\"its ok\")"
   ]
  },
  {
   "cell_type": "code",
   "execution_count": 26,
   "id": "7aace35d-cfc9-4aad-9d70-bb557c682440",
   "metadata": {},
   "outputs": [
    {
     "name": "stdin",
     "output_type": "stream",
     "text": [
      "price 9800\n"
     ]
    },
    {
     "name": "stdout",
     "output_type": "stream",
     "text": [
      "i will not purvhase\n",
      "this is too much\n"
     ]
    }
   ],
   "source": [
    "price = int(input(\"price\"))\n",
    "if price > 1000:\n",
    "    print(\"i will not purvhase\")\n",
    "    if price > 5000:\n",
    "        print(\"this is too much\")\n",
    "    elif price < 2000:\n",
    "       print(\"its ok\")\n",
    "\n",
    "    \n",
    "    "
   ]
  },
  {
   "cell_type": "code",
   "execution_count": 27,
   "id": "32b44617-0bcc-46dd-bd62-daf282f37b93",
   "metadata": {},
   "outputs": [],
   "source": [
    "l = [1,2,3,4,5,6,7,8]"
   ]
  },
  {
   "cell_type": "code",
   "execution_count": 28,
   "id": "12ef26e7-a171-42c6-a9da-b12e0f927572",
   "metadata": {},
   "outputs": [
    {
     "data": {
      "text/plain": [
       "[1, 2, 3, 4, 5, 6, 7, 8]"
      ]
     },
     "execution_count": 28,
     "metadata": {},
     "output_type": "execute_result"
    }
   ],
   "source": [
    "l"
   ]
  },
  {
   "cell_type": "code",
   "execution_count": 29,
   "id": "56bf257c-6fca-4230-b5ee-012b0027d7cd",
   "metadata": {},
   "outputs": [
    {
     "name": "stdout",
     "output_type": "stream",
     "text": [
      "1\n",
      "2\n",
      "3\n",
      "4\n",
      "5\n",
      "6\n",
      "7\n",
      "8\n"
     ]
    }
   ],
   "source": [
    "for i in l:\n",
    "    print(i)"
   ]
  },
  {
   "cell_type": "code",
   "execution_count": 30,
   "id": "807c6bd4-16c6-4d59-9a24-d22c9bc25a91",
   "metadata": {},
   "outputs": [
    {
     "name": "stdout",
     "output_type": "stream",
     "text": [
      "9\n"
     ]
    }
   ],
   "source": [
    "print(i+1)"
   ]
  },
  {
   "cell_type": "code",
   "execution_count": 31,
   "id": "3b546424-5040-42bb-8b52-fbc2c96105f8",
   "metadata": {},
   "outputs": [
    {
     "name": "stdout",
     "output_type": "stream",
     "text": [
      "2\n",
      "3\n",
      "4\n",
      "5\n",
      "6\n",
      "7\n",
      "8\n",
      "9\n"
     ]
    }
   ],
   "source": [
    "for i in l:\n",
    "    print(i+1)"
   ]
  },
  {
   "cell_type": "code",
   "execution_count": 32,
   "id": "b4304097-1cc6-444b-b59a-f88b7431cee7",
   "metadata": {},
   "outputs": [
    {
     "name": "stdout",
     "output_type": "stream",
     "text": [
      "2\n",
      "3\n",
      "4\n",
      "5\n",
      "6\n",
      "7\n",
      "8\n",
      "9\n"
     ]
    }
   ],
   "source": [
    "l1=[]\n",
    "for i in l:\n",
    "    print(i+1)\n",
    "    l1.append(i+1)"
   ]
  },
  {
   "cell_type": "code",
   "execution_count": 33,
   "id": "27f88dfb-66e9-43c9-b59e-f8c1df02e302",
   "metadata": {},
   "outputs": [
    {
     "data": {
      "text/plain": [
       "[2, 3, 4, 5, 6, 7, 8, 9]"
      ]
     },
     "execution_count": 33,
     "metadata": {},
     "output_type": "execute_result"
    }
   ],
   "source": [
    "l1"
   ]
  },
  {
   "cell_type": "code",
   "execution_count": 34,
   "id": "5728692f-2c1d-4262-986a-ed29dd052dcc",
   "metadata": {},
   "outputs": [],
   "source": [
    "l=[\"deep\",\"kumar\",\"pwskills\",\"course\"]"
   ]
  },
  {
   "cell_type": "code",
   "execution_count": 35,
   "id": "1c51255e-d11f-49ce-a074-14ee0ca46a34",
   "metadata": {},
   "outputs": [
    {
     "name": "stdout",
     "output_type": "stream",
     "text": [
      "deep\n",
      "kumar\n",
      "pwskills\n",
      "course\n"
     ]
    }
   ],
   "source": [
    "for i in l:\n",
    "    print(i)"
   ]
  },
  {
   "cell_type": "code",
   "execution_count": 36,
   "id": "c5ef9cca-2f88-4ea3-953f-cae107cc772a",
   "metadata": {},
   "outputs": [
    {
     "name": "stdout",
     "output_type": "stream",
     "text": [
      "deep\n",
      "kumar\n",
      "pwskills\n",
      "course\n"
     ]
    }
   ],
   "source": [
    "l1=[]\n",
    "for i in l:\n",
    "    print(i)\n",
    "    l1.append(i.upper())"
   ]
  },
  {
   "cell_type": "code",
   "execution_count": 37,
   "id": "0a75fce5-5989-44b8-88c3-e2590caed414",
   "metadata": {},
   "outputs": [
    {
     "data": {
      "text/plain": [
       "['DEEP', 'KUMAR', 'PWSKILLS', 'COURSE']"
      ]
     },
     "execution_count": 37,
     "metadata": {},
     "output_type": "execute_result"
    }
   ],
   "source": [
    "l1"
   ]
  },
  {
   "cell_type": "code",
   "execution_count": 38,
   "id": "4c8d020e-a933-46f7-a01f-30e6314a7b5d",
   "metadata": {},
   "outputs": [],
   "source": [
    "l=[1,2,3,4,5,6,\"deep\",\"kumar\",566,998,\"rtt\"]"
   ]
  },
  {
   "cell_type": "code",
   "execution_count": 45,
   "id": "b97fc6f0-35d7-43fe-8bba-a8abbd085934",
   "metadata": {},
   "outputs": [],
   "source": [
    "l1_num=[]\n",
    "l2_str=[]\n",
    "for i in l:\n",
    "    if type(i)==int or type==float:\n",
    "       l1_num.append(i)\n",
    "    else :\n",
    "       l2_str.append(i)\n",
    "    "
   ]
  },
  {
   "cell_type": "code",
   "execution_count": 48,
   "id": "1ec8405e-d50d-43ad-b167-ff6410f1ecf1",
   "metadata": {},
   "outputs": [
    {
     "data": {
      "text/plain": [
       "[1, 2, 3, 4, 5, 6, 566, 998]"
      ]
     },
     "execution_count": 48,
     "metadata": {},
     "output_type": "execute_result"
    }
   ],
   "source": [
    "l1_num"
   ]
  },
  {
   "cell_type": "code",
   "execution_count": 49,
   "id": "7d03acb4-c5c5-4dd1-863b-800f874dafb2",
   "metadata": {},
   "outputs": [
    {
     "data": {
      "text/plain": [
       "['deep', 'kumar', 'rtt']"
      ]
     },
     "execution_count": 49,
     "metadata": {},
     "output_type": "execute_result"
    }
   ],
   "source": [
    "l2_str"
   ]
  },
  {
   "cell_type": "code",
   "execution_count": null,
   "id": "3e934278-2c34-45cd-9764-dd82b5b0edb9",
   "metadata": {},
   "outputs": [],
   "source": []
  }
 ],
 "metadata": {
  "kernelspec": {
   "display_name": "Python 3 (ipykernel)",
   "language": "python",
   "name": "python3"
  },
  "language_info": {
   "codemirror_mode": {
    "name": "ipython",
    "version": 3
   },
   "file_extension": ".py",
   "mimetype": "text/x-python",
   "name": "python",
   "nbconvert_exporter": "python",
   "pygments_lexer": "ipython3",
   "version": "3.12.3"
  }
 },
 "nbformat": 4,
 "nbformat_minor": 5
}
