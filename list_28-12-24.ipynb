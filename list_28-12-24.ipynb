{
 "cells": [
  {
   "cell_type": "code",
   "execution_count": 1,
   "id": "89977fc5-c0a5-4723-9136-a510347556a2",
   "metadata": {},
   "outputs": [],
   "source": [
    "l=[1,34,5565,\"deep\", 5+6j,56,78]"
   ]
  },
  {
   "cell_type": "code",
   "execution_count": 2,
   "id": "4edfc4d9-5428-4b39-8d36-4ad59d025861",
   "metadata": {},
   "outputs": [
    {
     "data": {
      "text/plain": [
       "[1, 34, 5565, 'deep', (5+6j), 56, 78]"
      ]
     },
     "execution_count": 2,
     "metadata": {},
     "output_type": "execute_result"
    }
   ],
   "source": [
    "l"
   ]
  },
  {
   "cell_type": "code",
   "execution_count": 3,
   "id": "07903b1d-08cb-4a73-92ad-5eebd4c656dc",
   "metadata": {},
   "outputs": [
    {
     "data": {
      "text/plain": [
       "list"
      ]
     },
     "execution_count": 3,
     "metadata": {},
     "output_type": "execute_result"
    }
   ],
   "source": [
    "type(l)"
   ]
  },
  {
   "cell_type": "code",
   "execution_count": 4,
   "id": "6b66a7d3-c593-4a44-801e-ead241c1aa41",
   "metadata": {},
   "outputs": [
    {
     "data": {
      "text/plain": [
       "5565"
      ]
     },
     "execution_count": 4,
     "metadata": {},
     "output_type": "execute_result"
    }
   ],
   "source": [
    "l[2]"
   ]
  },
  {
   "cell_type": "code",
   "execution_count": 5,
   "id": "055ab17f-3ad4-4c19-9256-646cae9a82e5",
   "metadata": {},
   "outputs": [
    {
     "data": {
      "text/plain": [
       "78"
      ]
     },
     "execution_count": 5,
     "metadata": {},
     "output_type": "execute_result"
    }
   ],
   "source": [
    "l[-1]"
   ]
  },
  {
   "cell_type": "code",
   "execution_count": 6,
   "id": "3dc9be83-a15c-4c50-882a-a86e3a952590",
   "metadata": {},
   "outputs": [
    {
     "data": {
      "text/plain": [
       "1"
      ]
     },
     "execution_count": 6,
     "metadata": {},
     "output_type": "execute_result"
    }
   ],
   "source": [
    "l[0]"
   ]
  },
  {
   "cell_type": "code",
   "execution_count": 7,
   "id": "03872f0e-dbb4-4426-be6b-1066fc2cab9c",
   "metadata": {},
   "outputs": [
    {
     "ename": "IndexError",
     "evalue": "list index out of range",
     "output_type": "error",
     "traceback": [
      "\u001b[1;31m---------------------------------------------------------------------------\u001b[0m",
      "\u001b[1;31mIndexError\u001b[0m                                Traceback (most recent call last)",
      "Cell \u001b[1;32mIn[7], line 1\u001b[0m\n\u001b[1;32m----> 1\u001b[0m l[\u001b[38;5;241m90\u001b[39m]\n",
      "\u001b[1;31mIndexError\u001b[0m: list index out of range"
     ]
    }
   ],
   "source": [
    "l[90]"
   ]
  },
  {
   "cell_type": "code",
   "execution_count": 8,
   "id": "44e1123f-b1d2-4b8d-9f7a-2100b8fd0aba",
   "metadata": {},
   "outputs": [
    {
     "ename": "IndexError",
     "evalue": "list index out of range",
     "output_type": "error",
     "traceback": [
      "\u001b[1;31m---------------------------------------------------------------------------\u001b[0m",
      "\u001b[1;31mIndexError\u001b[0m                                Traceback (most recent call last)",
      "Cell \u001b[1;32mIn[8], line 1\u001b[0m\n\u001b[1;32m----> 1\u001b[0m l[\u001b[38;5;241m-\u001b[39m\u001b[38;5;241m90\u001b[39m]\n",
      "\u001b[1;31mIndexError\u001b[0m: list index out of range"
     ]
    }
   ],
   "source": [
    "l[-90]"
   ]
  },
  {
   "cell_type": "code",
   "execution_count": 9,
   "id": "ae5590e2-7c91-4ba3-b1f4-b926db89b387",
   "metadata": {},
   "outputs": [
    {
     "data": {
      "text/plain": [
       "[1, 34, 5565, 'deep', (5+6j), 56, 78]"
      ]
     },
     "execution_count": 9,
     "metadata": {},
     "output_type": "execute_result"
    }
   ],
   "source": [
    "l"
   ]
  },
  {
   "cell_type": "code",
   "execution_count": 10,
   "id": "44894165-34c6-4194-9c4c-ff0116444179",
   "metadata": {},
   "outputs": [
    {
     "data": {
      "text/plain": [
       "[1, 34, 5565]"
      ]
     },
     "execution_count": 10,
     "metadata": {},
     "output_type": "execute_result"
    }
   ],
   "source": [
    "l[0:3]"
   ]
  },
  {
   "cell_type": "code",
   "execution_count": 11,
   "id": "dc3bac2b-d4e5-4226-971a-0effe8eaa1a0",
   "metadata": {},
   "outputs": [
    {
     "data": {
      "text/plain": [
       "[78, 56, (5+6j), 'deep', 5565, 34, 1]"
      ]
     },
     "execution_count": 11,
     "metadata": {},
     "output_type": "execute_result"
    }
   ],
   "source": [
    "l[::-1]"
   ]
  },
  {
   "cell_type": "code",
   "execution_count": 12,
   "id": "a8014712-1bf9-4d9d-a16f-c06c08b7c533",
   "metadata": {},
   "outputs": [
    {
     "data": {
      "text/plain": [
       "[1, 5565, (5+6j), 78]"
      ]
     },
     "execution_count": 12,
     "metadata": {},
     "output_type": "execute_result"
    }
   ],
   "source": [
    "l[::2]"
   ]
  },
  {
   "cell_type": "code",
   "execution_count": 13,
   "id": "c05dfa24-41ac-49b4-bf12-a315bc6bdb4d",
   "metadata": {},
   "outputs": [],
   "source": [
    "s=\"pwskills\""
   ]
  },
  {
   "cell_type": "code",
   "execution_count": 14,
   "id": "4df51d82-dc08-4a97-aefa-c755708085de",
   "metadata": {},
   "outputs": [
    {
     "data": {
      "text/plain": [
       "'pwskills'"
      ]
     },
     "execution_count": 14,
     "metadata": {},
     "output_type": "execute_result"
    }
   ],
   "source": [
    "s"
   ]
  },
  {
   "cell_type": "code",
   "execution_count": 15,
   "id": "41e46752-c26a-4a3f-b970-48351da836e3",
   "metadata": {},
   "outputs": [
    {
     "ename": "TypeError",
     "evalue": "can only concatenate list (not \"str\") to list",
     "output_type": "error",
     "traceback": [
      "\u001b[1;31m---------------------------------------------------------------------------\u001b[0m",
      "\u001b[1;31mTypeError\u001b[0m                                 Traceback (most recent call last)",
      "Cell \u001b[1;32mIn[15], line 1\u001b[0m\n\u001b[1;32m----> 1\u001b[0m l\u001b[38;5;241m+\u001b[39ms\n",
      "\u001b[1;31mTypeError\u001b[0m: can only concatenate list (not \"str\") to list"
     ]
    }
   ],
   "source": [
    "l+s"
   ]
  },
  {
   "cell_type": "code",
   "execution_count": 17,
   "id": "8c880c49-aca0-4295-8f36-c555043a684b",
   "metadata": {},
   "outputs": [
    {
     "data": {
      "text/plain": [
       "['p', 'w', 's', 'k', 'i', 'l', 'l', 's', 1, 34, 5565, 'deep', (5+6j), 56, 78]"
      ]
     },
     "execution_count": 17,
     "metadata": {},
     "output_type": "execute_result"
    }
   ],
   "source": [
    "list(s)+l"
   ]
  },
  {
   "cell_type": "code",
   "execution_count": 18,
   "id": "ef7fa19b-a6e5-40d2-9aa8-3d51fe807d5b",
   "metadata": {},
   "outputs": [
    {
     "data": {
      "text/plain": [
       "[1, 34, 5565, 'deep', (5+6j), 56, 78]"
      ]
     },
     "execution_count": 18,
     "metadata": {},
     "output_type": "execute_result"
    }
   ],
   "source": [
    "l"
   ]
  },
  {
   "cell_type": "code",
   "execution_count": 19,
   "id": "0bd9c8ed-43b2-4866-b167-4db1c61ac677",
   "metadata": {},
   "outputs": [
    {
     "data": {
      "text/plain": [
       "'deep'"
      ]
     },
     "execution_count": 19,
     "metadata": {},
     "output_type": "execute_result"
    }
   ],
   "source": [
    "l[3]"
   ]
  },
  {
   "cell_type": "code",
   "execution_count": 20,
   "id": "fc6558a8-4410-4f22-b2d9-7d38a0716268",
   "metadata": {},
   "outputs": [
    {
     "data": {
      "text/plain": [
       "'de'"
      ]
     },
     "execution_count": 20,
     "metadata": {},
     "output_type": "execute_result"
    }
   ],
   "source": [
    "l[3][:2]"
   ]
  },
  {
   "cell_type": "code",
   "execution_count": 21,
   "id": "6da19bf5-9868-4766-a62c-205075332981",
   "metadata": {},
   "outputs": [
    {
     "data": {
      "text/plain": [
       "[1, 34, 5565, 'deep', (5+6j), 56, 78]"
      ]
     },
     "execution_count": 21,
     "metadata": {},
     "output_type": "execute_result"
    }
   ],
   "source": [
    "l"
   ]
  },
  {
   "cell_type": "code",
   "execution_count": 22,
   "id": "e187c33f-4fb6-4a79-9610-76e49efeeb9b",
   "metadata": {},
   "outputs": [
    {
     "ename": "TypeError",
     "evalue": "can only concatenate list (not \"int\") to list",
     "output_type": "error",
     "traceback": [
      "\u001b[1;31m---------------------------------------------------------------------------\u001b[0m",
      "\u001b[1;31mTypeError\u001b[0m                                 Traceback (most recent call last)",
      "Cell \u001b[1;32mIn[22], line 1\u001b[0m\n\u001b[1;32m----> 1\u001b[0m l\u001b[38;5;241m+\u001b[39m\u001b[38;5;241m5\u001b[39m\n",
      "\u001b[1;31mTypeError\u001b[0m: can only concatenate list (not \"int\") to list"
     ]
    }
   ],
   "source": [
    "l+5"
   ]
  },
  {
   "cell_type": "code",
   "execution_count": 23,
   "id": "c5d8425d-efea-4837-b72f-9229378887b1",
   "metadata": {},
   "outputs": [
    {
     "ename": "TypeError",
     "evalue": "'int' object is not iterable",
     "output_type": "error",
     "traceback": [
      "\u001b[1;31m---------------------------------------------------------------------------\u001b[0m",
      "\u001b[1;31mTypeError\u001b[0m                                 Traceback (most recent call last)",
      "Cell \u001b[1;32mIn[23], line 1\u001b[0m\n\u001b[1;32m----> 1\u001b[0m l\u001b[38;5;241m+\u001b[39m\u001b[38;5;28mlist\u001b[39m(\u001b[38;5;241m5\u001b[39m)\n",
      "\u001b[1;31mTypeError\u001b[0m: 'int' object is not iterable"
     ]
    }
   ],
   "source": [
    "l+list(5)"
   ]
  },
  {
   "cell_type": "code",
   "execution_count": 24,
   "id": "164474a9-bbc2-4bb0-81a6-bc26c448909e",
   "metadata": {},
   "outputs": [],
   "source": [
    "l1=[2,565,98]"
   ]
  },
  {
   "cell_type": "code",
   "execution_count": 25,
   "id": "8df92e2b-435d-4c11-ac6b-9fd84b704ab4",
   "metadata": {},
   "outputs": [
    {
     "data": {
      "text/plain": [
       "[1, 34, 5565, 'deep', (5+6j), 56, 78, 2, 565, 98]"
      ]
     },
     "execution_count": 25,
     "metadata": {},
     "output_type": "execute_result"
    }
   ],
   "source": [
    "l+l1"
   ]
  },
  {
   "cell_type": "code",
   "execution_count": 26,
   "id": "f322a305-1f44-4b27-b683-91da85d3d763",
   "metadata": {},
   "outputs": [
    {
     "data": {
      "text/plain": [
       "[2, 565, 98, 2, 565, 98, 2, 565, 98]"
      ]
     },
     "execution_count": 26,
     "metadata": {},
     "output_type": "execute_result"
    }
   ],
   "source": [
    "l1*3"
   ]
  },
  {
   "cell_type": "code",
   "execution_count": 27,
   "id": "66bed9a0-af1e-4276-9aeb-1d5c9d1c2484",
   "metadata": {},
   "outputs": [
    {
     "data": {
      "text/plain": [
       "[1, 34, 5565, 'deep', (5+6j), 56, 78]"
      ]
     },
     "execution_count": 27,
     "metadata": {},
     "output_type": "execute_result"
    }
   ],
   "source": [
    "l"
   ]
  },
  {
   "cell_type": "code",
   "execution_count": 28,
   "id": "ae50c4c6-81ef-4376-97de-9a83b25f56a8",
   "metadata": {},
   "outputs": [
    {
     "data": {
      "text/plain": [
       "7"
      ]
     },
     "execution_count": 28,
     "metadata": {},
     "output_type": "execute_result"
    }
   ],
   "source": [
    "len(l)"
   ]
  },
  {
   "cell_type": "code",
   "execution_count": 29,
   "id": "9d4ec5ee-3c41-40c1-bf43-e1fa01fe2850",
   "metadata": {},
   "outputs": [
    {
     "data": {
      "text/plain": [
       "[1, 34, 5565, 'deep', (5+6j), 56, 78]"
      ]
     },
     "execution_count": 29,
     "metadata": {},
     "output_type": "execute_result"
    }
   ],
   "source": [
    "l"
   ]
  },
  {
   "cell_type": "code",
   "execution_count": 30,
   "id": "f2e003eb-d70c-4129-82fc-809c71db036f",
   "metadata": {},
   "outputs": [
    {
     "ename": "AttributeError",
     "evalue": "'list' object has no attribute 'appens'",
     "output_type": "error",
     "traceback": [
      "\u001b[1;31m---------------------------------------------------------------------------\u001b[0m",
      "\u001b[1;31mAttributeError\u001b[0m                            Traceback (most recent call last)",
      "Cell \u001b[1;32mIn[30], line 1\u001b[0m\n\u001b[1;32m----> 1\u001b[0m l\u001b[38;5;241m.\u001b[39mappens(\u001b[38;5;241m6\u001b[39m)\n",
      "\u001b[1;31mAttributeError\u001b[0m: 'list' object has no attribute 'appens'"
     ]
    }
   ],
   "source": [
    "l.appens(6)"
   ]
  },
  {
   "cell_type": "code",
   "execution_count": 31,
   "id": "bad39453-f321-4c55-960a-bd37d8b72520",
   "metadata": {},
   "outputs": [],
   "source": [
    "l.append(6)"
   ]
  },
  {
   "cell_type": "code",
   "execution_count": 32,
   "id": "a7fcec9b-91f6-4838-b4f1-6cce544daa05",
   "metadata": {},
   "outputs": [
    {
     "data": {
      "text/plain": [
       "[1, 34, 5565, 'deep', (5+6j), 56, 78, 6]"
      ]
     },
     "execution_count": 32,
     "metadata": {},
     "output_type": "execute_result"
    }
   ],
   "source": [
    "l"
   ]
  },
  {
   "cell_type": "code",
   "execution_count": 34,
   "id": "a330bb8c-3273-46e0-b771-0ac0942e3c01",
   "metadata": {},
   "outputs": [],
   "source": [
    "l.append(\"pwskills\")"
   ]
  },
  {
   "cell_type": "code",
   "execution_count": 35,
   "id": "61e856b1-4057-454a-be33-b14b941fbae9",
   "metadata": {},
   "outputs": [
    {
     "data": {
      "text/plain": [
       "[1, 34, 5565, 'deep', (5+6j), 56, 78, 6, 'pwskills']"
      ]
     },
     "execution_count": 35,
     "metadata": {},
     "output_type": "execute_result"
    }
   ],
   "source": [
    "l"
   ]
  },
  {
   "cell_type": "code",
   "execution_count": 36,
   "id": "9c73e6b9-c5e8-4676-9a0a-5b947b4461e3",
   "metadata": {},
   "outputs": [],
   "source": [
    "l.append(l1)"
   ]
  },
  {
   "cell_type": "code",
   "execution_count": 37,
   "id": "190096ba-4757-4409-ab8c-2e451e17d1ec",
   "metadata": {},
   "outputs": [
    {
     "data": {
      "text/plain": [
       "[1, 34, 5565, 'deep', (5+6j), 56, 78, 6, 'pwskills', [2, 565, 98]]"
      ]
     },
     "execution_count": 37,
     "metadata": {},
     "output_type": "execute_result"
    }
   ],
   "source": [
    "l"
   ]
  },
  {
   "cell_type": "code",
   "execution_count": 38,
   "id": "839ed3d6-430b-4a74-842e-7170755b4c90",
   "metadata": {},
   "outputs": [
    {
     "data": {
      "text/plain": [
       "[2, 565, 98]"
      ]
     },
     "execution_count": 38,
     "metadata": {},
     "output_type": "execute_result"
    }
   ],
   "source": [
    "l[-1]"
   ]
  },
  {
   "cell_type": "code",
   "execution_count": 39,
   "id": "de276f8e-4452-4f13-8f57-45d8e88bc7cc",
   "metadata": {},
   "outputs": [
    {
     "data": {
      "text/plain": [
       "2"
      ]
     },
     "execution_count": 39,
     "metadata": {},
     "output_type": "execute_result"
    }
   ],
   "source": [
    "l[-1][0]"
   ]
  },
  {
   "cell_type": "code",
   "execution_count": 40,
   "id": "27c3de9b-fb1a-4afd-88f9-ba83d9456b8f",
   "metadata": {},
   "outputs": [
    {
     "data": {
      "text/plain": [
       "[1, 34, 5565, 'deep', (5+6j), 56, 78, 6, 'pwskills', [2, 565, 98]]"
      ]
     },
     "execution_count": 40,
     "metadata": {},
     "output_type": "execute_result"
    }
   ],
   "source": [
    "l"
   ]
  },
  {
   "cell_type": "code",
   "execution_count": 41,
   "id": "368b2d8b-6393-4eb7-a889-bd81bb2817eb",
   "metadata": {},
   "outputs": [
    {
     "ename": "TypeError",
     "evalue": "'int' object is not iterable",
     "output_type": "error",
     "traceback": [
      "\u001b[1;31m---------------------------------------------------------------------------\u001b[0m",
      "\u001b[1;31mTypeError\u001b[0m                                 Traceback (most recent call last)",
      "Cell \u001b[1;32mIn[41], line 1\u001b[0m\n\u001b[1;32m----> 1\u001b[0m l\u001b[38;5;241m.\u001b[39mextend(\u001b[38;5;241m4\u001b[39m)\n",
      "\u001b[1;31mTypeError\u001b[0m: 'int' object is not iterable"
     ]
    }
   ],
   "source": [
    "l.extend(4)"
   ]
  },
  {
   "cell_type": "code",
   "execution_count": 42,
   "id": "95601dc0-b287-46de-b770-3b7f2df36ff4",
   "metadata": {},
   "outputs": [],
   "source": [
    "l.extend(\"DEEPAK\")"
   ]
  },
  {
   "cell_type": "code",
   "execution_count": 43,
   "id": "4b876d4d-a965-4f07-a97b-38ac8c13256f",
   "metadata": {},
   "outputs": [
    {
     "data": {
      "text/plain": [
       "[1,\n",
       " 34,\n",
       " 5565,\n",
       " 'deep',\n",
       " (5+6j),\n",
       " 56,\n",
       " 78,\n",
       " 6,\n",
       " 'pwskills',\n",
       " [2, 565, 98],\n",
       " 'D',\n",
       " 'E',\n",
       " 'E',\n",
       " 'P',\n",
       " 'A',\n",
       " 'K']"
      ]
     },
     "execution_count": 43,
     "metadata": {},
     "output_type": "execute_result"
    }
   ],
   "source": [
    "l"
   ]
  },
  {
   "cell_type": "code",
   "execution_count": 44,
   "id": "82d62bca-62b8-4f5e-8710-e59ca38f0bc1",
   "metadata": {},
   "outputs": [
    {
     "ename": "AttributeError",
     "evalue": "'list' object has no attribute 'extent'",
     "output_type": "error",
     "traceback": [
      "\u001b[1;31m---------------------------------------------------------------------------\u001b[0m",
      "\u001b[1;31mAttributeError\u001b[0m                            Traceback (most recent call last)",
      "Cell \u001b[1;32mIn[44], line 1\u001b[0m\n\u001b[1;32m----> 1\u001b[0m l\u001b[38;5;241m.\u001b[39mextent([\u001b[38;5;241m3\u001b[39m,\u001b[38;5;241m4\u001b[39m,\u001b[38;5;241m5\u001b[39m])\n",
      "\u001b[1;31mAttributeError\u001b[0m: 'list' object has no attribute 'extent'"
     ]
    }
   ],
   "source": [
    "l.extent([3,4,5])"
   ]
  },
  {
   "cell_type": "code",
   "execution_count": 45,
   "id": "1253374f-4139-4dad-a84f-77f7a4c86445",
   "metadata": {},
   "outputs": [],
   "source": [
    "l.extend([3,4,5])"
   ]
  },
  {
   "cell_type": "code",
   "execution_count": 46,
   "id": "be6c10fd-338d-446b-86f8-975bc68955ca",
   "metadata": {},
   "outputs": [
    {
     "data": {
      "text/plain": [
       "[1,\n",
       " 34,\n",
       " 5565,\n",
       " 'deep',\n",
       " (5+6j),\n",
       " 56,\n",
       " 78,\n",
       " 6,\n",
       " 'pwskills',\n",
       " [2, 565, 98],\n",
       " 'D',\n",
       " 'E',\n",
       " 'E',\n",
       " 'P',\n",
       " 'A',\n",
       " 'K',\n",
       " 3,\n",
       " 4,\n",
       " 5]"
      ]
     },
     "execution_count": 46,
     "metadata": {},
     "output_type": "execute_result"
    }
   ],
   "source": [
    "l"
   ]
  },
  {
   "cell_type": "code",
   "execution_count": 47,
   "id": "4426c7d7-3316-4e54-9f2a-864f5a4161d6",
   "metadata": {},
   "outputs": [
    {
     "data": {
      "text/plain": [
       "[2, 565, 98]"
      ]
     },
     "execution_count": 47,
     "metadata": {},
     "output_type": "execute_result"
    }
   ],
   "source": [
    "l1"
   ]
  },
  {
   "cell_type": "code",
   "execution_count": 48,
   "id": "3b34ce5b-57f4-4cfd-81f1-5c36b2d9e2bd",
   "metadata": {},
   "outputs": [
    {
     "data": {
      "text/plain": [
       "[1,\n",
       " 34,\n",
       " 5565,\n",
       " 'deep',\n",
       " (5+6j),\n",
       " 56,\n",
       " 78,\n",
       " 6,\n",
       " 'pwskills',\n",
       " [2, 565, 98],\n",
       " 'D',\n",
       " 'E',\n",
       " 'E',\n",
       " 'P',\n",
       " 'A',\n",
       " 'K',\n",
       " 3,\n",
       " 4,\n",
       " 5]"
      ]
     },
     "execution_count": 48,
     "metadata": {},
     "output_type": "execute_result"
    }
   ],
   "source": [
    "l"
   ]
  },
  {
   "cell_type": "code",
   "execution_count": 49,
   "id": "98c5c676-2049-40af-a396-7fb133e96ec0",
   "metadata": {},
   "outputs": [
    {
     "data": {
      "text/plain": [
       "[5,\n",
       " 4,\n",
       " 3,\n",
       " 'K',\n",
       " 'A',\n",
       " 'P',\n",
       " 'E',\n",
       " 'E',\n",
       " 'D',\n",
       " [2, 565, 98],\n",
       " 'pwskills',\n",
       " 6,\n",
       " 78,\n",
       " 56,\n",
       " (5+6j),\n",
       " 'deep',\n",
       " 5565,\n",
       " 34,\n",
       " 1]"
      ]
     },
     "execution_count": 49,
     "metadata": {},
     "output_type": "execute_result"
    }
   ],
   "source": [
    "l[::-1]"
   ]
  },
  {
   "cell_type": "code",
   "execution_count": 50,
   "id": "eb1bf3e0-149c-4182-916e-5b88a4910140",
   "metadata": {},
   "outputs": [
    {
     "data": {
      "text/plain": [
       "[1, 5565, (5+6j), 78, 'pwskills', 'D', 'E', 'A', 3, 5]"
      ]
     },
     "execution_count": 50,
     "metadata": {},
     "output_type": "execute_result"
    }
   ],
   "source": [
    "l[::2]"
   ]
  },
  {
   "cell_type": "code",
   "execution_count": 51,
   "id": "735f7a2b-9d88-463e-9c26-604801c49dda",
   "metadata": {},
   "outputs": [],
   "source": [
    "s=\"pwskills\""
   ]
  },
  {
   "cell_type": "code",
   "execution_count": 52,
   "id": "8ffd66eb-6e4f-4247-89dd-d8abe48c9609",
   "metadata": {},
   "outputs": [
    {
     "data": {
      "text/plain": [
       "'pwskills'"
      ]
     },
     "execution_count": 52,
     "metadata": {},
     "output_type": "execute_result"
    }
   ],
   "source": [
    "s"
   ]
  },
  {
   "cell_type": "code",
   "execution_count": 53,
   "id": "2dd930bb-df30-4680-952a-98250e8256fe",
   "metadata": {},
   "outputs": [
    {
     "ename": "TypeError",
     "evalue": "can only concatenate list (not \"str\") to list",
     "output_type": "error",
     "traceback": [
      "\u001b[1;31m---------------------------------------------------------------------------\u001b[0m",
      "\u001b[1;31mTypeError\u001b[0m                                 Traceback (most recent call last)",
      "Cell \u001b[1;32mIn[53], line 1\u001b[0m\n\u001b[1;32m----> 1\u001b[0m l\u001b[38;5;241m+\u001b[39ms\n",
      "\u001b[1;31mTypeError\u001b[0m: can only concatenate list (not \"str\") to list"
     ]
    }
   ],
   "source": [
    "l+s"
   ]
  },
  {
   "cell_type": "code",
   "execution_count": 54,
   "id": "f5a9230a-4a4d-4cdd-918f-7d3cbe7a58b9",
   "metadata": {},
   "outputs": [],
   "source": [
    "l.append(s)"
   ]
  },
  {
   "cell_type": "code",
   "execution_count": 55,
   "id": "03f79ac8-7a62-4a74-bd3b-ca2540cdc333",
   "metadata": {},
   "outputs": [
    {
     "data": {
      "text/plain": [
       "[1,\n",
       " 34,\n",
       " 5565,\n",
       " 'deep',\n",
       " (5+6j),\n",
       " 56,\n",
       " 78,\n",
       " 6,\n",
       " 'pwskills',\n",
       " [2, 565, 98],\n",
       " 'D',\n",
       " 'E',\n",
       " 'E',\n",
       " 'P',\n",
       " 'A',\n",
       " 'K',\n",
       " 3,\n",
       " 4,\n",
       " 5,\n",
       " 'pwskills']"
      ]
     },
     "execution_count": 55,
     "metadata": {},
     "output_type": "execute_result"
    }
   ],
   "source": [
    "l"
   ]
  },
  {
   "cell_type": "code",
   "execution_count": 56,
   "id": "1c993538-c109-48a0-85c7-0972aa8eee86",
   "metadata": {},
   "outputs": [],
   "source": [
    "l1=[23,56,8]"
   ]
  },
  {
   "cell_type": "code",
   "execution_count": 57,
   "id": "81dd6fe2-3781-43b0-aa2c-7ba5000ff5c1",
   "metadata": {},
   "outputs": [
    {
     "data": {
      "text/plain": [
       "[23, 56, 8]"
      ]
     },
     "execution_count": 57,
     "metadata": {},
     "output_type": "execute_result"
    }
   ],
   "source": [
    "l1"
   ]
  },
  {
   "cell_type": "code",
   "execution_count": 58,
   "id": "f4d2278d-daad-4f8a-9102-772c421f1394",
   "metadata": {},
   "outputs": [],
   "source": [
    "l1.append(\"ph\")"
   ]
  },
  {
   "cell_type": "code",
   "execution_count": 59,
   "id": "fce2fb6f-35df-4436-b197-3bed26a196fd",
   "metadata": {},
   "outputs": [
    {
     "data": {
      "text/plain": [
       "[23, 56, 8, 'ph']"
      ]
     },
     "execution_count": 59,
     "metadata": {},
     "output_type": "execute_result"
    }
   ],
   "source": [
    "l1"
   ]
  },
  {
   "cell_type": "code",
   "execution_count": 60,
   "id": "43eb6336-0071-41e8-a178-90e66c35c3c0",
   "metadata": {},
   "outputs": [
    {
     "ename": "TypeError",
     "evalue": "insert expected 2 arguments, got 1",
     "output_type": "error",
     "traceback": [
      "\u001b[1;31m---------------------------------------------------------------------------\u001b[0m",
      "\u001b[1;31mTypeError\u001b[0m                                 Traceback (most recent call last)",
      "Cell \u001b[1;32mIn[60], line 1\u001b[0m\n\u001b[1;32m----> 1\u001b[0m l1\u001b[38;5;241m.\u001b[39minsert(\u001b[38;5;124m\"\u001b[39m\u001b[38;5;124mpwskills\u001b[39m\u001b[38;5;124m\"\u001b[39m)\n",
      "\u001b[1;31mTypeError\u001b[0m: insert expected 2 arguments, got 1"
     ]
    }
   ],
   "source": [
    "l1.insert(\"pwskills\")"
   ]
  },
  {
   "cell_type": "code",
   "execution_count": 61,
   "id": "44875b3a-865d-400c-85ee-cc4d67b95478",
   "metadata": {},
   "outputs": [
    {
     "data": {
      "text/plain": [
       "[23, 56, 8, 'ph']"
      ]
     },
     "execution_count": 61,
     "metadata": {},
     "output_type": "execute_result"
    }
   ],
   "source": [
    "l1"
   ]
  },
  {
   "cell_type": "code",
   "execution_count": 64,
   "id": "248fe31c-e932-4f19-a28b-f1622f1794c0",
   "metadata": {},
   "outputs": [],
   "source": [
    "l1.insert(1,\"pjh\")"
   ]
  },
  {
   "cell_type": "code",
   "execution_count": 65,
   "id": "e38e048f-d5f2-4417-95ff-54b12c42b1e1",
   "metadata": {},
   "outputs": [
    {
     "data": {
      "text/plain": [
       "[23, 'pjh', 56, 8, 'ph']"
      ]
     },
     "execution_count": 65,
     "metadata": {},
     "output_type": "execute_result"
    }
   ],
   "source": [
    "l1"
   ]
  },
  {
   "cell_type": "code",
   "execution_count": 68,
   "id": "c0084860-a409-40ed-bf02-4ea8dca16966",
   "metadata": {},
   "outputs": [],
   "source": [
    "l1.insert(2,[3,4,6])"
   ]
  },
  {
   "cell_type": "code",
   "execution_count": 67,
   "id": "de0539da-3d0b-4c47-b452-30c902d0359f",
   "metadata": {},
   "outputs": [
    {
     "data": {
      "text/plain": [
       "[23, 'pjh', [3, 4, 6], 56, 8, 'ph']"
      ]
     },
     "execution_count": 67,
     "metadata": {},
     "output_type": "execute_result"
    }
   ],
   "source": [
    "l1"
   ]
  },
  {
   "cell_type": "code",
   "execution_count": 69,
   "id": "1ff0db29-dceb-4214-81ef-23f50a26aea0",
   "metadata": {},
   "outputs": [
    {
     "ename": "AttributeError",
     "evalue": "'list' object has no attribute 'inset'",
     "output_type": "error",
     "traceback": [
      "\u001b[1;31m---------------------------------------------------------------------------\u001b[0m",
      "\u001b[1;31mAttributeError\u001b[0m                            Traceback (most recent call last)",
      "Cell \u001b[1;32mIn[69], line 1\u001b[0m\n\u001b[1;32m----> 1\u001b[0m l1\u001b[38;5;241m.\u001b[39minset(\u001b[38;5;241m-\u001b[39m\u001b[38;5;241m1\u001b[39m,\u001b[38;5;241m45\u001b[39m)\n",
      "\u001b[1;31mAttributeError\u001b[0m: 'list' object has no attribute 'inset'"
     ]
    }
   ],
   "source": [
    "l1.inset(-1,45)"
   ]
  },
  {
   "cell_type": "code",
   "execution_count": 70,
   "id": "387ade98-fc97-4625-8e2c-d449f7edc6bd",
   "metadata": {},
   "outputs": [],
   "source": [
    "l1.insert(-1,45)"
   ]
  },
  {
   "cell_type": "code",
   "execution_count": 71,
   "id": "55780f27-daa1-4a27-890a-30e24969750d",
   "metadata": {},
   "outputs": [
    {
     "data": {
      "text/plain": [
       "[23, 'pjh', [3, 4, 6], [3, 4, 6], 56, 8, 45, 'ph']"
      ]
     },
     "execution_count": 71,
     "metadata": {},
     "output_type": "execute_result"
    }
   ],
   "source": [
    "l1"
   ]
  },
  {
   "cell_type": "code",
   "execution_count": 72,
   "id": "70f14fbf-cb32-48f9-be7f-da0e349fb75a",
   "metadata": {},
   "outputs": [],
   "source": [
    "l1.insert(0,78)"
   ]
  },
  {
   "cell_type": "code",
   "execution_count": 73,
   "id": "09ee84f1-1cab-4a36-8597-7840abd52540",
   "metadata": {},
   "outputs": [
    {
     "data": {
      "text/plain": [
       "[78, 23, 'pjh', [3, 4, 6], [3, 4, 6], 56, 8, 45, 'ph']"
      ]
     },
     "execution_count": 73,
     "metadata": {},
     "output_type": "execute_result"
    }
   ],
   "source": [
    "l1"
   ]
  },
  {
   "cell_type": "code",
   "execution_count": 74,
   "id": "47e17c1a-f5bf-4048-85d5-6c3e4509c9f2",
   "metadata": {},
   "outputs": [],
   "source": [
    "l1.insert(1,566)"
   ]
  },
  {
   "cell_type": "code",
   "execution_count": 75,
   "id": "08f09ac9-9c3e-443a-929a-436b7f512a1d",
   "metadata": {},
   "outputs": [
    {
     "data": {
      "text/plain": [
       "[78, 566, 23, 'pjh', [3, 4, 6], [3, 4, 6], 56, 8, 45, 'ph']"
      ]
     },
     "execution_count": 75,
     "metadata": {},
     "output_type": "execute_result"
    }
   ],
   "source": [
    "l1"
   ]
  },
  {
   "cell_type": "code",
   "execution_count": 76,
   "id": "cf7a3b20-63e2-4651-92be-8370412d84c5",
   "metadata": {},
   "outputs": [
    {
     "data": {
      "text/plain": [
       "'ph'"
      ]
     },
     "execution_count": 76,
     "metadata": {},
     "output_type": "execute_result"
    }
   ],
   "source": [
    "l1.pop()"
   ]
  },
  {
   "cell_type": "code",
   "execution_count": 77,
   "id": "d79cb511-e911-4937-9ae2-8f2f3a29b31a",
   "metadata": {},
   "outputs": [
    {
     "data": {
      "text/plain": [
       "[78, 566, 23, 'pjh', [3, 4, 6], [3, 4, 6], 56, 8, 45]"
      ]
     },
     "execution_count": 77,
     "metadata": {},
     "output_type": "execute_result"
    }
   ],
   "source": [
    "l1"
   ]
  },
  {
   "cell_type": "code",
   "execution_count": 78,
   "id": "838cc34b-6e44-4595-b84f-4a9165c76783",
   "metadata": {},
   "outputs": [
    {
     "data": {
      "text/plain": [
       "45"
      ]
     },
     "execution_count": 78,
     "metadata": {},
     "output_type": "execute_result"
    }
   ],
   "source": [
    "l1.pop()"
   ]
  },
  {
   "cell_type": "code",
   "execution_count": 79,
   "id": "a431965c-68e0-4f97-ada5-4176a2a50431",
   "metadata": {},
   "outputs": [
    {
     "data": {
      "text/plain": [
       "[78, 566, 23, 'pjh', [3, 4, 6], [3, 4, 6], 56, 8]"
      ]
     },
     "execution_count": 79,
     "metadata": {},
     "output_type": "execute_result"
    }
   ],
   "source": [
    "l1"
   ]
  },
  {
   "cell_type": "code",
   "execution_count": 80,
   "id": "baaffc98-0e69-46da-a2ec-dba7b20cb13c",
   "metadata": {},
   "outputs": [
    {
     "data": {
      "text/plain": [
       "23"
      ]
     },
     "execution_count": 80,
     "metadata": {},
     "output_type": "execute_result"
    }
   ],
   "source": [
    "l1.pop(2)"
   ]
  },
  {
   "cell_type": "code",
   "execution_count": 81,
   "id": "b5fe7263-401d-4620-bb15-0195072ca6a9",
   "metadata": {},
   "outputs": [
    {
     "data": {
      "text/plain": [
       "[78, 566, 'pjh', [3, 4, 6], [3, 4, 6], 56, 8]"
      ]
     },
     "execution_count": 81,
     "metadata": {},
     "output_type": "execute_result"
    }
   ],
   "source": [
    "l1"
   ]
  },
  {
   "cell_type": "code",
   "execution_count": 82,
   "id": "4bb52036-8bab-4c03-9e30-91df3b738294",
   "metadata": {},
   "outputs": [],
   "source": [
    "l1.remove(78)"
   ]
  },
  {
   "cell_type": "code",
   "execution_count": 83,
   "id": "8c9998ec-e806-4b0f-9ae1-813f08caf23f",
   "metadata": {},
   "outputs": [
    {
     "data": {
      "text/plain": [
       "[566, 'pjh', [3, 4, 6], [3, 4, 6], 56, 8]"
      ]
     },
     "execution_count": 83,
     "metadata": {},
     "output_type": "execute_result"
    }
   ],
   "source": [
    "l1"
   ]
  },
  {
   "cell_type": "code",
   "execution_count": 84,
   "id": "fb830b85-41e5-4e6c-bdec-970c36af0c9f",
   "metadata": {},
   "outputs": [
    {
     "ename": "ValueError",
     "evalue": "list.remove(x): x not in list",
     "output_type": "error",
     "traceback": [
      "\u001b[1;31m---------------------------------------------------------------------------\u001b[0m",
      "\u001b[1;31mValueError\u001b[0m                                Traceback (most recent call last)",
      "Cell \u001b[1;32mIn[84], line 1\u001b[0m\n\u001b[1;32m----> 1\u001b[0m l1\u001b[38;5;241m.\u001b[39mremove(\u001b[38;5;241m78\u001b[39m)\n",
      "\u001b[1;31mValueError\u001b[0m: list.remove(x): x not in list"
     ]
    }
   ],
   "source": [
    "l1.remove(78)"
   ]
  },
  {
   "cell_type": "code",
   "execution_count": 85,
   "id": "b1aa883b-e672-4b12-8db8-faa054671d28",
   "metadata": {},
   "outputs": [
    {
     "data": {
      "text/plain": [
       "[566, 'pjh', [3, 4, 6], [3, 4, 6], 56, 8]"
      ]
     },
     "execution_count": 85,
     "metadata": {},
     "output_type": "execute_result"
    }
   ],
   "source": [
    "l1"
   ]
  },
  {
   "cell_type": "code",
   "execution_count": 89,
   "id": "c0a3eff3-4d95-42c9-86d8-76bed8838d9e",
   "metadata": {},
   "outputs": [],
   "source": [
    "l1.remove([3,4,6])"
   ]
  },
  {
   "cell_type": "markdown",
   "id": "d73b5cb2-b65f-458a-b22d-2dacbab65c29",
   "metadata": {},
   "source": [
    "l1"
   ]
  },
  {
   "cell_type": "code",
   "execution_count": 90,
   "id": "62f65cf5-2f56-4af9-b7f7-68679c70cba5",
   "metadata": {},
   "outputs": [
    {
     "data": {
      "text/plain": [
       "[566, 'pjh', 56, 8]"
      ]
     },
     "execution_count": 90,
     "metadata": {},
     "output_type": "execute_result"
    }
   ],
   "source": [
    "l1"
   ]
  },
  {
   "cell_type": "code",
   "execution_count": 91,
   "id": "3281aa9b-f3e4-4c4c-9eb0-cd2f4b74dc05",
   "metadata": {},
   "outputs": [
    {
     "ename": "ValueError",
     "evalue": "list.remove(x): x not in list",
     "output_type": "error",
     "traceback": [
      "\u001b[1;31m---------------------------------------------------------------------------\u001b[0m",
      "\u001b[1;31mValueError\u001b[0m                                Traceback (most recent call last)",
      "Cell \u001b[1;32mIn[91], line 1\u001b[0m\n\u001b[1;32m----> 1\u001b[0m l1\u001b[38;5;241m+\u001b[39ml1\u001b[38;5;241m.\u001b[39mremove([\u001b[38;5;241m3\u001b[39m,\u001b[38;5;241m4\u001b[39m,\u001b[38;5;241m5\u001b[39m])\n",
      "\u001b[1;31mValueError\u001b[0m: list.remove(x): x not in list"
     ]
    }
   ],
   "source": [
    "l1+l1.remove([3,4,5])"
   ]
  },
  {
   "cell_type": "code",
   "execution_count": 92,
   "id": "3effb7a9-4b7b-4f45-b8f9-92cba59e997c",
   "metadata": {},
   "outputs": [
    {
     "data": {
      "text/plain": [
       "[566, 'pjh', 56, 8]"
      ]
     },
     "execution_count": 92,
     "metadata": {},
     "output_type": "execute_result"
    }
   ],
   "source": [
    "l1"
   ]
  },
  {
   "cell_type": "code",
   "execution_count": 93,
   "id": "eb0c8f9a-ffc8-418e-9be4-00c640952478",
   "metadata": {},
   "outputs": [],
   "source": [
    "l1.append([3,4,5])"
   ]
  },
  {
   "cell_type": "code",
   "execution_count": 94,
   "id": "f3452b6b-84a7-4850-9c62-ad89d736a629",
   "metadata": {},
   "outputs": [
    {
     "data": {
      "text/plain": [
       "[566, 'pjh', 56, 8, [3, 4, 5]]"
      ]
     },
     "execution_count": 94,
     "metadata": {},
     "output_type": "execute_result"
    }
   ],
   "source": [
    "l1"
   ]
  },
  {
   "cell_type": "code",
   "execution_count": 96,
   "id": "d63c0671-1c1c-4232-b729-3953a7c2c21f",
   "metadata": {},
   "outputs": [],
   "source": [
    "l1[-1].remove(3)"
   ]
  },
  {
   "cell_type": "markdown",
   "id": "5e9ce6f3-dc20-4cc0-8c2c-17a59a4d0a3b",
   "metadata": {},
   "source": [
    "l1"
   ]
  },
  {
   "cell_type": "code",
   "execution_count": 97,
   "id": "eafb988d-c8c3-42f6-92af-4c0a5d4cdc8c",
   "metadata": {},
   "outputs": [
    {
     "data": {
      "text/plain": [
       "[566, 'pjh', 56, 8, [4, 5]]"
      ]
     },
     "execution_count": 97,
     "metadata": {},
     "output_type": "execute_result"
    }
   ],
   "source": [
    "l1"
   ]
  },
  {
   "cell_type": "code",
   "execution_count": 98,
   "id": "bc7e4b30-b962-4684-a800-b54e14275181",
   "metadata": {},
   "outputs": [
    {
     "ename": "AttributeError",
     "evalue": "'int' object has no attribute 'remove'",
     "output_type": "error",
     "traceback": [
      "\u001b[1;31m---------------------------------------------------------------------------\u001b[0m",
      "\u001b[1;31mAttributeError\u001b[0m                            Traceback (most recent call last)",
      "Cell \u001b[1;32mIn[98], line 1\u001b[0m\n\u001b[1;32m----> 1\u001b[0m l[\u001b[38;5;241m1\u001b[39m]\u001b[38;5;241m.\u001b[39mremove(p)\n",
      "\u001b[1;31mAttributeError\u001b[0m: 'int' object has no attribute 'remove'"
     ]
    }
   ],
   "source": [
    "l[1].remove(p)"
   ]
  },
  {
   "cell_type": "code",
   "execution_count": 99,
   "id": "d02a3c8b-bb42-4681-af77-7b3a5ef06d89",
   "metadata": {},
   "outputs": [
    {
     "data": {
      "text/plain": [
       "[566, 'pjh', 56, 8, [4, 5]]"
      ]
     },
     "execution_count": 99,
     "metadata": {},
     "output_type": "execute_result"
    }
   ],
   "source": [
    "l1"
   ]
  },
  {
   "cell_type": "code",
   "execution_count": 100,
   "id": "f2297db2-4b19-4f42-a54d-ee463fb1a8ea",
   "metadata": {},
   "outputs": [],
   "source": [
    "l1.append(4)"
   ]
  },
  {
   "cell_type": "code",
   "execution_count": 101,
   "id": "9955b693-0893-42e5-a419-0e7e6b482566",
   "metadata": {},
   "outputs": [
    {
     "data": {
      "text/plain": [
       "[566, 'pjh', 56, 8, [4, 5], 4]"
      ]
     },
     "execution_count": 101,
     "metadata": {},
     "output_type": "execute_result"
    }
   ],
   "source": [
    "l1"
   ]
  },
  {
   "cell_type": "code",
   "execution_count": 102,
   "id": "37cd2d0d-9ffe-4047-96ac-dbe4cc437ec8",
   "metadata": {},
   "outputs": [],
   "source": [
    "l.remove(4)"
   ]
  },
  {
   "cell_type": "code",
   "execution_count": 103,
   "id": "a9fb52db-978b-422e-bb40-f337f85ab506",
   "metadata": {},
   "outputs": [
    {
     "data": {
      "text/plain": [
       "[566, 'pjh', 56, 8, [4, 5], 4]"
      ]
     },
     "execution_count": 103,
     "metadata": {},
     "output_type": "execute_result"
    }
   ],
   "source": [
    "l1"
   ]
  },
  {
   "cell_type": "code",
   "execution_count": 104,
   "id": "bb198541-0bfe-4a64-abc9-23fcac8ff0c1",
   "metadata": {},
   "outputs": [
    {
     "data": {
      "text/plain": [
       "[4, [4, 5], 8, 56, 'pjh', 566]"
      ]
     },
     "execution_count": 104,
     "metadata": {},
     "output_type": "execute_result"
    }
   ],
   "source": [
    "l1[::-1]"
   ]
  },
  {
   "cell_type": "code",
   "execution_count": 105,
   "id": "ad02c7a4-2bf9-4b05-9072-3521fe9ca15f",
   "metadata": {},
   "outputs": [],
   "source": [
    "l1.reverse()"
   ]
  },
  {
   "cell_type": "code",
   "execution_count": 106,
   "id": "67a01dd7-e5f6-4cdc-be76-2a67cd04320f",
   "metadata": {},
   "outputs": [
    {
     "data": {
      "text/plain": [
       "[4, [4, 5], 8, 56, 'pjh', 566]"
      ]
     },
     "execution_count": 106,
     "metadata": {},
     "output_type": "execute_result"
    }
   ],
   "source": [
    "l1"
   ]
  },
  {
   "cell_type": "code",
   "execution_count": 107,
   "id": "0f3873c2-36d3-44f4-9a43-0cc386d8bbe2",
   "metadata": {},
   "outputs": [],
   "source": [
    "l1.reverse()"
   ]
  },
  {
   "cell_type": "code",
   "execution_count": 108,
   "id": "e2c85218-d5ee-4471-931e-aed3973f9224",
   "metadata": {},
   "outputs": [
    {
     "data": {
      "text/plain": [
       "[566, 'pjh', 56, 8, [4, 5], 4]"
      ]
     },
     "execution_count": 108,
     "metadata": {},
     "output_type": "execute_result"
    }
   ],
   "source": [
    "l1"
   ]
  },
  {
   "cell_type": "code",
   "execution_count": 109,
   "id": "e4445e10-7e0b-4460-a9ad-eba9110e5bb6",
   "metadata": {},
   "outputs": [
    {
     "data": {
      "text/plain": [
       "[566, 'pjh', 56, 8, [4, 5], 4]"
      ]
     },
     "execution_count": 109,
     "metadata": {},
     "output_type": "execute_result"
    }
   ],
   "source": [
    "l1"
   ]
  },
  {
   "cell_type": "code",
   "execution_count": 110,
   "id": "d8733265-0955-4481-9262-42e0b6d9d2c8",
   "metadata": {},
   "outputs": [
    {
     "ename": "TypeError",
     "evalue": "'<' not supported between instances of 'str' and 'int'",
     "output_type": "error",
     "traceback": [
      "\u001b[1;31m---------------------------------------------------------------------------\u001b[0m",
      "\u001b[1;31mTypeError\u001b[0m                                 Traceback (most recent call last)",
      "Cell \u001b[1;32mIn[110], line 1\u001b[0m\n\u001b[1;32m----> 1\u001b[0m l1\u001b[38;5;241m.\u001b[39msort()\n",
      "\u001b[1;31mTypeError\u001b[0m: '<' not supported between instances of 'str' and 'int'"
     ]
    }
   ],
   "source": [
    "l1.sort()"
   ]
  },
  {
   "cell_type": "code",
   "execution_count": 111,
   "id": "d12776e0-fdf8-4454-8975-866074cce579",
   "metadata": {},
   "outputs": [],
   "source": [
    "l2=[3,4,5,78,9,55,33]"
   ]
  },
  {
   "cell_type": "code",
   "execution_count": 112,
   "id": "57c3f88a-8eb7-4e29-8d8e-ae8e1fa12bc8",
   "metadata": {},
   "outputs": [
    {
     "data": {
      "text/plain": [
       "[3, 4, 5, 78, 9, 55, 33]"
      ]
     },
     "execution_count": 112,
     "metadata": {},
     "output_type": "execute_result"
    }
   ],
   "source": [
    "l2"
   ]
  },
  {
   "cell_type": "code",
   "execution_count": 113,
   "id": "bcd442ad-6d06-42d3-b989-6c3ec7790732",
   "metadata": {},
   "outputs": [],
   "source": [
    "l2.sort()"
   ]
  },
  {
   "cell_type": "code",
   "execution_count": 114,
   "id": "0272dfa7-7bce-47d4-b4e3-27166822f6cd",
   "metadata": {},
   "outputs": [
    {
     "data": {
      "text/plain": [
       "[3, 4, 5, 9, 33, 55, 78]"
      ]
     },
     "execution_count": 114,
     "metadata": {},
     "output_type": "execute_result"
    }
   ],
   "source": [
    "l2"
   ]
  },
  {
   "cell_type": "code",
   "execution_count": null,
   "id": "51105775-ec57-4d79-a909-afbcae3ec13a",
   "metadata": {},
   "outputs": [],
   "source": []
  }
 ],
 "metadata": {
  "kernelspec": {
   "display_name": "Python 3 (ipykernel)",
   "language": "python",
   "name": "python3"
  },
  "language_info": {
   "codemirror_mode": {
    "name": "ipython",
    "version": 3
   },
   "file_extension": ".py",
   "mimetype": "text/x-python",
   "name": "python",
   "nbconvert_exporter": "python",
   "pygments_lexer": "ipython3",
   "version": "3.12.3"
  }
 },
 "nbformat": 4,
 "nbformat_minor": 5
}
